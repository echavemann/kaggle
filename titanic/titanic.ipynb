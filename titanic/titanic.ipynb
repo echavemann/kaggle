{
 "cells": [
  {
   "cell_type": "code",
   "execution_count": 1,
   "id": "d9a636ae",
   "metadata": {
    "_cell_guid": "b1076dfc-b9ad-4769-8c92-a6c4dae69d19",
    "_uuid": "8f2839f25d086af736a60e9eeb907d3b93b6e0e5",
    "execution": {
     "iopub.execute_input": "2024-01-10T17:47:22.205998Z",
     "iopub.status.busy": "2024-01-10T17:47:22.205601Z",
     "iopub.status.idle": "2024-01-10T17:47:26.565977Z",
     "shell.execute_reply": "2024-01-10T17:47:26.564657Z"
    },
    "papermill": {
     "duration": 4.370812,
     "end_time": "2024-01-10T17:47:26.568801",
     "exception": false,
     "start_time": "2024-01-10T17:47:22.197989",
     "status": "completed"
    },
    "tags": []
   },
   "outputs": [
    {
     "name": "stderr",
     "output_type": "stream",
     "text": [
      "/home/echavemann/.cache/pypoetry/virtualenvs/kaggle-C0gLnRWh-py3.11/lib/python3.11/site-packages/tqdm/auto.py:21: TqdmWarning: IProgress not found. Please update jupyter and ipywidgets. See https://ipywidgets.readthedocs.io/en/stable/user_install.html\n",
      "  from .autonotebook import tqdm as notebook_tqdm\n"
     ]
    }
   ],
   "source": [
    "import numpy as np\n",
    "import pandas as pd\n",
    "import lightgbm as lgb\n",
    "import os\n",
    "import optuna"
   ]
  },
  {
   "cell_type": "code",
   "execution_count": 3,
   "id": "25281ec4",
   "metadata": {
    "execution": {
     "iopub.execute_input": "2024-01-10T17:47:26.579856Z",
     "iopub.status.busy": "2024-01-10T17:47:26.579444Z",
     "iopub.status.idle": "2024-01-10T17:47:26.655788Z",
     "shell.execute_reply": "2024-01-10T17:47:26.654985Z"
    },
    "papermill": {
     "duration": 0.084448,
     "end_time": "2024-01-10T17:47:26.658122",
     "exception": false,
     "start_time": "2024-01-10T17:47:26.573674",
     "status": "completed"
    },
    "tags": []
   },
   "outputs": [
    {
     "data": {
      "text/html": [
       "<div>\n",
       "<style scoped>\n",
       "    .dataframe tbody tr th:only-of-type {\n",
       "        vertical-align: middle;\n",
       "    }\n",
       "\n",
       "    .dataframe tbody tr th {\n",
       "        vertical-align: top;\n",
       "    }\n",
       "\n",
       "    .dataframe thead th {\n",
       "        text-align: right;\n",
       "    }\n",
       "</style>\n",
       "<table border=\"1\" class=\"dataframe\">\n",
       "  <thead>\n",
       "    <tr style=\"text-align: right;\">\n",
       "      <th></th>\n",
       "      <th>PassengerId</th>\n",
       "      <th>Survived</th>\n",
       "      <th>Pclass</th>\n",
       "      <th>Name</th>\n",
       "      <th>Sex</th>\n",
       "      <th>Age</th>\n",
       "      <th>SibSp</th>\n",
       "      <th>Parch</th>\n",
       "      <th>Ticket</th>\n",
       "      <th>Fare</th>\n",
       "      <th>Cabin</th>\n",
       "      <th>Embarked</th>\n",
       "      <th>FamilySize</th>\n",
       "    </tr>\n",
       "  </thead>\n",
       "  <tbody>\n",
       "    <tr>\n",
       "      <th>0</th>\n",
       "      <td>1</td>\n",
       "      <td>0.0</td>\n",
       "      <td>3</td>\n",
       "      <td>Braund, Mr. Owen Harris</td>\n",
       "      <td>0</td>\n",
       "      <td>22.0</td>\n",
       "      <td>1</td>\n",
       "      <td>0</td>\n",
       "      <td>A/5 21171</td>\n",
       "      <td>7.2500</td>\n",
       "      <td>NaN</td>\n",
       "      <td>0</td>\n",
       "      <td>2</td>\n",
       "    </tr>\n",
       "    <tr>\n",
       "      <th>1</th>\n",
       "      <td>2</td>\n",
       "      <td>1.0</td>\n",
       "      <td>1</td>\n",
       "      <td>Cumings, Mrs. John Bradley (Florence Briggs Th...</td>\n",
       "      <td>1</td>\n",
       "      <td>38.0</td>\n",
       "      <td>1</td>\n",
       "      <td>0</td>\n",
       "      <td>PC 17599</td>\n",
       "      <td>71.2833</td>\n",
       "      <td>C85</td>\n",
       "      <td>1</td>\n",
       "      <td>2</td>\n",
       "    </tr>\n",
       "    <tr>\n",
       "      <th>2</th>\n",
       "      <td>3</td>\n",
       "      <td>1.0</td>\n",
       "      <td>3</td>\n",
       "      <td>Heikkinen, Miss. Laina</td>\n",
       "      <td>1</td>\n",
       "      <td>26.0</td>\n",
       "      <td>0</td>\n",
       "      <td>0</td>\n",
       "      <td>STON/O2. 3101282</td>\n",
       "      <td>7.9250</td>\n",
       "      <td>NaN</td>\n",
       "      <td>0</td>\n",
       "      <td>1</td>\n",
       "    </tr>\n",
       "    <tr>\n",
       "      <th>3</th>\n",
       "      <td>4</td>\n",
       "      <td>1.0</td>\n",
       "      <td>1</td>\n",
       "      <td>Futrelle, Mrs. Jacques Heath (Lily May Peel)</td>\n",
       "      <td>1</td>\n",
       "      <td>35.0</td>\n",
       "      <td>1</td>\n",
       "      <td>0</td>\n",
       "      <td>113803</td>\n",
       "      <td>53.1000</td>\n",
       "      <td>C123</td>\n",
       "      <td>0</td>\n",
       "      <td>2</td>\n",
       "    </tr>\n",
       "    <tr>\n",
       "      <th>4</th>\n",
       "      <td>5</td>\n",
       "      <td>0.0</td>\n",
       "      <td>3</td>\n",
       "      <td>Allen, Mr. William Henry</td>\n",
       "      <td>0</td>\n",
       "      <td>35.0</td>\n",
       "      <td>0</td>\n",
       "      <td>0</td>\n",
       "      <td>373450</td>\n",
       "      <td>8.0500</td>\n",
       "      <td>NaN</td>\n",
       "      <td>0</td>\n",
       "      <td>1</td>\n",
       "    </tr>\n",
       "  </tbody>\n",
       "</table>\n",
       "</div>"
      ],
      "text/plain": [
       "   PassengerId  Survived  Pclass  \\\n",
       "0            1       0.0       3   \n",
       "1            2       1.0       1   \n",
       "2            3       1.0       3   \n",
       "3            4       1.0       1   \n",
       "4            5       0.0       3   \n",
       "\n",
       "                                                Name  Sex   Age  SibSp  Parch  \\\n",
       "0                            Braund, Mr. Owen Harris    0  22.0      1      0   \n",
       "1  Cumings, Mrs. John Bradley (Florence Briggs Th...    1  38.0      1      0   \n",
       "2                             Heikkinen, Miss. Laina    1  26.0      0      0   \n",
       "3       Futrelle, Mrs. Jacques Heath (Lily May Peel)    1  35.0      1      0   \n",
       "4                           Allen, Mr. William Henry    0  35.0      0      0   \n",
       "\n",
       "             Ticket     Fare Cabin  Embarked  FamilySize  \n",
       "0         A/5 21171   7.2500   NaN         0           2  \n",
       "1          PC 17599  71.2833   C85         1           2  \n",
       "2  STON/O2. 3101282   7.9250   NaN         0           1  \n",
       "3            113803  53.1000  C123         0           2  \n",
       "4            373450   8.0500   NaN         0           1  "
      ]
     },
     "execution_count": 3,
     "metadata": {},
     "output_type": "execute_result"
    }
   ],
   "source": [
    "train = pd.read_csv(\"train.csv\")\n",
    "test = pd.read_csv(\"test.csv\")\n",
    "gender_submission = pd.read_csv(\"gender_submission.csv\")\n",
    "data = pd.concat([train, test], sort=False)\n",
    "data['Sex'].replace(['male', 'female'], [0, 1], inplace=True)\n",
    "data['Embarked'].fillna(('S'), inplace=True) #NA = S\n",
    "data['Embarked'] = data['Embarked'].map( {'S': 0, 'C': 1, 'Q': 2} ).astype(int) #Categorical Embarked\n",
    "data['Fare'].fillna(np.mean(data['Fare']), inplace=True)\n",
    "data['Age'] = data['Age'].fillna(data.groupby(['Sex', 'Pclass'])['Age'].transform('median'))\n",
    "data['FamilySize'] = data['Parch'] + data['SibSp'] + 1\n",
    "data.head()"
   ]
  },
  {
   "cell_type": "code",
   "execution_count": 4,
   "id": "0b5ea4f2",
   "metadata": {
    "execution": {
     "iopub.execute_input": "2024-01-10T17:47:26.670262Z",
     "iopub.status.busy": "2024-01-10T17:47:26.669668Z",
     "iopub.status.idle": "2024-01-10T17:47:26.678349Z",
     "shell.execute_reply": "2024-01-10T17:47:26.677562Z"
    },
    "papermill": {
     "duration": 0.017362,
     "end_time": "2024-01-10T17:47:26.680677",
     "exception": false,
     "start_time": "2024-01-10T17:47:26.663315",
     "status": "completed"
    },
    "tags": []
   },
   "outputs": [],
   "source": [
    "delC = ['Name', 'Cabin', 'Ticket', 'PassengerId']\n",
    "data.drop(delC, axis = 1, inplace = True)\n",
    "train = data[:len(train)]\n",
    "test = data[len(train):]\n",
    "\n",
    "y_train = train['Survived']\n",
    "X_train = train.drop('Survived', axis=1)\n",
    "X_test = test.drop('Survived', axis = 1)"
   ]
  },
  {
   "cell_type": "code",
   "execution_count": 5,
   "id": "0b0865dc",
   "metadata": {
    "execution": {
     "iopub.execute_input": "2024-01-10T17:47:26.693156Z",
     "iopub.status.busy": "2024-01-10T17:47:26.692581Z",
     "iopub.status.idle": "2024-01-10T17:47:26.697022Z",
     "shell.execute_reply": "2024-01-10T17:47:26.696317Z"
    },
    "papermill": {
     "duration": 0.013393,
     "end_time": "2024-01-10T17:47:26.699210",
     "exception": false,
     "start_time": "2024-01-10T17:47:26.685817",
     "status": "completed"
    },
    "tags": []
   },
   "outputs": [],
   "source": [
    "params = {\n",
    "    'objective':'binary',\n",
    "    'learning_rate': 0.01,\n",
    "    'num_leaves': 4,\n",
    "    'feature_fraction' : 0.9,\n",
    "    'min_data_in_leaf': 35,\n",
    "    'max_depth': 2,\n",
    "    'max_bin': 25\n",
    "}\n",
    "num_round = 5000"
   ]
  },
  {
   "cell_type": "code",
   "execution_count": 6,
   "id": "99deb35b",
   "metadata": {
    "execution": {
     "iopub.execute_input": "2024-01-10T17:47:26.711411Z",
     "iopub.status.busy": "2024-01-10T17:47:26.710826Z",
     "iopub.status.idle": "2024-01-10T17:47:26.720627Z",
     "shell.execute_reply": "2024-01-10T17:47:26.719538Z"
    },
    "papermill": {
     "duration": 0.019143,
     "end_time": "2024-01-10T17:47:26.723515",
     "exception": false,
     "start_time": "2024-01-10T17:47:26.704372",
     "status": "completed"
    },
    "tags": []
   },
   "outputs": [],
   "source": [
    "from sklearn.model_selection import train_test_split\n",
    "X_train, X_valid, y_train, y_valid = train_test_split(X_train, y_train, test_size = 0.3, random_state=42, stratify = y_train)\n",
    "cats = ['Embarked', 'Pclass', 'Sex']"
   ]
  },
  {
   "cell_type": "code",
   "execution_count": 7,
   "id": "4f04f511",
   "metadata": {
    "execution": {
     "iopub.execute_input": "2024-01-10T17:47:26.735628Z",
     "iopub.status.busy": "2024-01-10T17:47:26.734908Z",
     "iopub.status.idle": "2024-01-10T17:47:26.740697Z",
     "shell.execute_reply": "2024-01-10T17:47:26.739712Z"
    },
    "papermill": {
     "duration": 0.014415,
     "end_time": "2024-01-10T17:47:26.742935",
     "exception": false,
     "start_time": "2024-01-10T17:47:26.728520",
     "status": "completed"
    },
    "tags": []
   },
   "outputs": [],
   "source": [
    "lgbTrain = lgb.Dataset(X_train, y_train, categorical_feature = cats, free_raw_data=False)\n",
    "lgbEval = lgb.Dataset(X_valid, y_valid, reference=lgbTrain, categorical_feature=cats, free_raw_data=False)"
   ]
  },
  {
   "cell_type": "code",
   "execution_count": 8,
   "id": "9069e033",
   "metadata": {
    "execution": {
     "iopub.execute_input": "2024-01-10T17:47:26.755013Z",
     "iopub.status.busy": "2024-01-10T17:47:26.754371Z",
     "iopub.status.idle": "2024-01-10T17:48:22.037902Z",
     "shell.execute_reply": "2024-01-10T17:48:22.036737Z"
    },
    "papermill": {
     "duration": 55.29318,
     "end_time": "2024-01-10T17:48:22.041137",
     "exception": false,
     "start_time": "2024-01-10T17:47:26.747957",
     "status": "completed"
    },
    "tags": []
   },
   "outputs": [
    {
     "name": "stderr",
     "output_type": "stream",
     "text": [
      "[I 2024-01-10 18:01:04,522] A new study created in memory with name: no-name-905544d3-7641-42a9-9d30-d6428e9b712f\n"
     ]
    },
    {
     "name": "stdout",
     "output_type": "stream",
     "text": [
      "Training until validation scores don't improve for 50 rounds\n"
     ]
    },
    {
     "name": "stderr",
     "output_type": "stream",
     "text": [
      "[I 2024-01-10 18:01:05,487] Trial 0 finished with value: 8.472948371322316 and parameters: {'lambda_l1': 5.161475955982295e-05, 'lambda_l2': 7.992612250902994e-06, 'num_leaves': 245, 'bagging_fraction': 0.47715473887164084, 'bagging_freq': 4, 'min_child_samples': 69, 'max_depth': 39}. Best is trial 0 with value: 8.472948371322316.\n"
     ]
    },
    {
     "name": "stdout",
     "output_type": "stream",
     "text": [
      "Early stopping, best iteration is:\n",
      "[99]\ttraining's binary_logloss: 0.423492\tvalid_1's binary_logloss: 0.456892\n"
     ]
    },
    {
     "name": "stderr",
     "output_type": "stream",
     "text": [
      "[LightGBM] [Fatal] Reducing `min_data_in_leaf` with `feature_pre_filter=true` may cause unexpected behaviour for features that were pre-filtered by the larger `min_data_in_leaf`.\n",
      "You need to set `feature_pre_filter=false` to dynamically change the `min_data_in_leaf`.\n",
      "[LightGBM] [Fatal] Reducing `min_data_in_leaf` with `feature_pre_filter=true` may cause unexpected behaviour for features that were pre-filtered by the larger `min_data_in_leaf`.\n",
      "You need to set `feature_pre_filter=false` to dynamically change the `min_data_in_leaf`.\n"
     ]
    },
    {
     "name": "stdout",
     "output_type": "stream",
     "text": [
      "Training until validation scores don't improve for 50 rounds\n"
     ]
    },
    {
     "name": "stderr",
     "output_type": "stream",
     "text": [
      "[I 2024-01-10 18:01:20,439] Trial 1 finished with value: 6.590070955472913 and parameters: {'lambda_l1': 0.0021530800198666694, 'lambda_l2': 0.015921047800249954, 'num_leaves': 231, 'bagging_fraction': 0.8625043353158242, 'bagging_freq': 3, 'min_child_samples': 44, 'max_depth': 30}. Best is trial 1 with value: 6.590070955472913.\n"
     ]
    },
    {
     "name": "stdout",
     "output_type": "stream",
     "text": [
      "Early stopping, best iteration is:\n",
      "[30]\ttraining's binary_logloss: 0.376053\tvalid_1's binary_logloss: 0.430773\n",
      "Training until validation scores don't improve for 50 rounds\n"
     ]
    },
    {
     "name": "stderr",
     "output_type": "stream",
     "text": [
      "[I 2024-01-10 18:01:22,785] Trial 2 finished with value: 6.859053443451399 and parameters: {'lambda_l1': 0.0029014681605345764, 'lambda_l2': 0.0006181880203683563, 'num_leaves': 256, 'bagging_fraction': 0.984692191696021, 'bagging_freq': 6, 'min_child_samples': 90, 'max_depth': 43}. Best is trial 1 with value: 6.590070955472913.\n"
     ]
    },
    {
     "name": "stdout",
     "output_type": "stream",
     "text": [
      "Early stopping, best iteration is:\n",
      "[165]\ttraining's binary_logloss: 0.336782\tvalid_1's binary_logloss: 0.439588\n",
      "Training until validation scores don't improve for 50 rounds\n"
     ]
    },
    {
     "name": "stderr",
     "output_type": "stream",
     "text": [
      "[I 2024-01-10 18:01:24,724] Trial 3 finished with value: 8.069474639354585 and parameters: {'lambda_l1': 4.6620227863169e-08, 'lambda_l2': 7.55665176591782e-08, 'num_leaves': 145, 'bagging_fraction': 0.7417509484562661, 'bagging_freq': 6, 'min_child_samples': 74, 'max_depth': 34}. Best is trial 1 with value: 6.590070955472913.\n"
     ]
    },
    {
     "name": "stdout",
     "output_type": "stream",
     "text": [
      "Early stopping, best iteration is:\n",
      "[60]\ttraining's binary_logloss: 0.401415\tvalid_1's binary_logloss: 0.446519\n",
      "Training until validation scores don't improve for 50 rounds\n"
     ]
    },
    {
     "name": "stderr",
     "output_type": "stream",
     "text": [
      "[I 2024-01-10 18:01:27,435] Trial 4 finished with value: 8.472948371322316 and parameters: {'lambda_l1': 0.09955372642118113, 'lambda_l2': 1.7539278466290818e-07, 'num_leaves': 104, 'bagging_fraction': 0.5031436577375896, 'bagging_freq': 1, 'min_child_samples': 100, 'max_depth': 4}. Best is trial 1 with value: 6.590070955472913.\n"
     ]
    },
    {
     "name": "stdout",
     "output_type": "stream",
     "text": [
      "Early stopping, best iteration is:\n",
      "[164]\ttraining's binary_logloss: 0.436117\tvalid_1's binary_logloss: 0.473192\n",
      "Training until validation scores don't improve for 50 rounds\n"
     ]
    },
    {
     "name": "stderr",
     "output_type": "stream",
     "text": [
      "[I 2024-01-10 18:01:37,114] Trial 5 finished with value: 6.455579711483669 and parameters: {'lambda_l1': 2.296935360630296, 'lambda_l2': 8.17282885614299e-06, 'num_leaves': 23, 'bagging_fraction': 0.9301792028074407, 'bagging_freq': 7, 'min_child_samples': 71, 'max_depth': 7}. Best is trial 5 with value: 6.455579711483669.\n"
     ]
    },
    {
     "name": "stdout",
     "output_type": "stream",
     "text": [
      "Early stopping, best iteration is:\n",
      "[105]\ttraining's binary_logloss: 0.373914\tvalid_1's binary_logloss: 0.429323\n",
      "Training until validation scores don't improve for 50 rounds\n"
     ]
    },
    {
     "name": "stderr",
     "output_type": "stream",
     "text": [
      "[I 2024-01-10 18:01:49,297] Trial 6 finished with value: 7.128035931429885 and parameters: {'lambda_l1': 0.0012823620812989242, 'lambda_l2': 9.023695300230014e-08, 'num_leaves': 82, 'bagging_fraction': 0.8907209981340187, 'bagging_freq': 5, 'min_child_samples': 95, 'max_depth': 10}. Best is trial 5 with value: 6.455579711483669.\n"
     ]
    },
    {
     "name": "stdout",
     "output_type": "stream",
     "text": [
      "Early stopping, best iteration is:\n",
      "[84]\ttraining's binary_logloss: 0.394174\tvalid_1's binary_logloss: 0.450693\n"
     ]
    },
    {
     "name": "stderr",
     "output_type": "stream",
     "text": [
      "[LightGBM] [Fatal] Reducing `min_data_in_leaf` with `feature_pre_filter=true` may cause unexpected behaviour for features that were pre-filtered by the larger `min_data_in_leaf`.\n",
      "You need to set `feature_pre_filter=false` to dynamically change the `min_data_in_leaf`.\n",
      "[LightGBM] [Fatal] Reducing `min_data_in_leaf` with `feature_pre_filter=true` may cause unexpected behaviour for features that were pre-filtered by the larger `min_data_in_leaf`.\n",
      "You need to set `feature_pre_filter=false` to dynamically change the `min_data_in_leaf`.\n"
     ]
    },
    {
     "name": "stdout",
     "output_type": "stream",
     "text": [
      "Training until validation scores don't improve for 50 rounds\n"
     ]
    },
    {
     "name": "stderr",
     "output_type": "stream",
     "text": [
      "[I 2024-01-10 18:01:52,814] Trial 7 finished with value: 7.262527175419128 and parameters: {'lambda_l1': 4.02057011827845e-05, 'lambda_l2': 0.010368312688898072, 'num_leaves': 183, 'bagging_fraction': 0.7691957853686311, 'bagging_freq': 2, 'min_child_samples': 28, 'max_depth': 48}. Best is trial 5 with value: 6.455579711483669.\n"
     ]
    },
    {
     "name": "stdout",
     "output_type": "stream",
     "text": [
      "Early stopping, best iteration is:\n",
      "[27]\ttraining's binary_logloss: 0.3503\tvalid_1's binary_logloss: 0.435418\n",
      "Training until validation scores don't improve for 50 rounds\n"
     ]
    },
    {
     "name": "stderr",
     "output_type": "stream",
     "text": [
      "[I 2024-01-10 18:01:58,334] Trial 8 finished with value: 7.128035931429885 and parameters: {'lambda_l1': 0.0007542266882552386, 'lambda_l2': 0.0024050993352086425, 'num_leaves': 250, 'bagging_fraction': 0.7014129227412904, 'bagging_freq': 1, 'min_child_samples': 73, 'max_depth': 30}. Best is trial 5 with value: 6.455579711483669.\n"
     ]
    },
    {
     "name": "stdout",
     "output_type": "stream",
     "text": [
      "Early stopping, best iteration is:\n",
      "[109]\ttraining's binary_logloss: 0.374228\tvalid_1's binary_logloss: 0.449119\n",
      "Training until validation scores don't improve for 50 rounds\n"
     ]
    },
    {
     "name": "stderr",
     "output_type": "stream",
     "text": [
      "[I 2024-01-10 18:02:06,595] Trial 9 finished with value: 6.186597223505183 and parameters: {'lambda_l1': 7.904188107525204e-08, 'lambda_l2': 0.32096770277489256, 'num_leaves': 190, 'bagging_fraction': 0.7949521819154115, 'bagging_freq': 3, 'min_child_samples': 47, 'max_depth': 35}. Best is trial 9 with value: 6.186597223505183.\n"
     ]
    },
    {
     "name": "stdout",
     "output_type": "stream",
     "text": [
      "Early stopping, best iteration is:\n",
      "[45]\ttraining's binary_logloss: 0.362221\tvalid_1's binary_logloss: 0.43047\n"
     ]
    },
    {
     "name": "stderr",
     "output_type": "stream",
     "text": [
      "[LightGBM] [Fatal] Reducing `min_data_in_leaf` with `feature_pre_filter=true` may cause unexpected behaviour for features that were pre-filtered by the larger `min_data_in_leaf`.\n",
      "You need to set `feature_pre_filter=false` to dynamically change the `min_data_in_leaf`.\n",
      "[LightGBM] [Fatal] Reducing `min_data_in_leaf` with `feature_pre_filter=true` may cause unexpected behaviour for features that were pre-filtered by the larger `min_data_in_leaf`.\n",
      "You need to set `feature_pre_filter=false` to dynamically change the `min_data_in_leaf`.\n"
     ]
    },
    {
     "name": "stdout",
     "output_type": "stream",
     "text": [
      "Training until validation scores don't improve for 50 rounds\n"
     ]
    },
    {
     "name": "stderr",
     "output_type": "stream",
     "text": [
      "[I 2024-01-10 18:02:10,830] Trial 10 finished with value: 6.724562199462156 and parameters: {'lambda_l1': 1.0567181760840204e-08, 'lambda_l2': 1.8816665656721576, 'num_leaves': 168, 'bagging_fraction': 0.5792504745218154, 'bagging_freq': 3, 'min_child_samples': 5, 'max_depth': 18}. Best is trial 9 with value: 6.186597223505183.\n"
     ]
    },
    {
     "name": "stdout",
     "output_type": "stream",
     "text": [
      "Early stopping, best iteration is:\n",
      "[30]\ttraining's binary_logloss: 0.316452\tvalid_1's binary_logloss: 0.435578\n",
      "Training until validation scores don't improve for 50 rounds\n"
     ]
    },
    {
     "name": "stderr",
     "output_type": "stream",
     "text": [
      "[I 2024-01-10 18:02:12,764] Trial 11 finished with value: 6.993544687440641 and parameters: {'lambda_l1': 2.575676321733917, 'lambda_l2': 2.414953974059243, 'num_leaves': 12, 'bagging_fraction': 0.982352041130844, 'bagging_freq': 7, 'min_child_samples': 51, 'max_depth': 20}. Best is trial 9 with value: 6.186597223505183.\n"
     ]
    },
    {
     "name": "stdout",
     "output_type": "stream",
     "text": [
      "Early stopping, best iteration is:\n",
      "[56]\ttraining's binary_logloss: 0.374797\tvalid_1's binary_logloss: 0.427893\n",
      "Training until validation scores don't improve for 50 rounds\n"
     ]
    },
    {
     "name": "stderr",
     "output_type": "stream",
     "text": [
      "[I 2024-01-10 18:02:16,526] Trial 12 finished with value: 6.993544687440641 and parameters: {'lambda_l1': 1.9976347179378673e-06, 'lambda_l2': 1.2574028199469317e-05, 'num_leaves': 7, 'bagging_fraction': 0.8587039622699528, 'bagging_freq': 4, 'min_child_samples': 34, 'max_depth': 16}. Best is trial 9 with value: 6.186597223505183.\n"
     ]
    },
    {
     "name": "stdout",
     "output_type": "stream",
     "text": [
      "Early stopping, best iteration is:\n",
      "[38]\ttraining's binary_logloss: 0.356662\tvalid_1's binary_logloss: 0.430256\n",
      "Training until validation scores don't improve for 50 rounds\n"
     ]
    },
    {
     "name": "stderr",
     "output_type": "stream",
     "text": [
      "[I 2024-01-10 18:02:20,013] Trial 13 finished with value: 7.39701841940837 and parameters: {'lambda_l1': 4.646102111442659, 'lambda_l2': 1.6069904682010676e-05, 'num_leaves': 54, 'bagging_fraction': 0.8198306971937669, 'bagging_freq': 7, 'min_child_samples': 60, 'max_depth': 2}. Best is trial 9 with value: 6.186597223505183.\n"
     ]
    },
    {
     "name": "stdout",
     "output_type": "stream",
     "text": [
      "Early stopping, best iteration is:\n",
      "[188]\ttraining's binary_logloss: 0.398596\tvalid_1's binary_logloss: 0.428046\n",
      "Training until validation scores don't improve for 50 rounds\n"
     ]
    },
    {
     "name": "stderr",
     "output_type": "stream",
     "text": [
      "[I 2024-01-10 18:02:23,431] Trial 14 finished with value: 6.4555797114836695 and parameters: {'lambda_l1': 7.46002525173281e-07, 'lambda_l2': 0.4161010507629977, 'num_leaves': 199, 'bagging_fraction': 0.6232360423428487, 'bagging_freq': 3, 'min_child_samples': 21, 'max_depth': 25}. Best is trial 9 with value: 6.186597223505183.\n"
     ]
    },
    {
     "name": "stdout",
     "output_type": "stream",
     "text": [
      "Early stopping, best iteration is:\n",
      "[31]\ttraining's binary_logloss: 0.343881\tvalid_1's binary_logloss: 0.420321\n",
      "Training until validation scores don't improve for 50 rounds\n"
     ]
    },
    {
     "name": "stderr",
     "output_type": "stream",
     "text": [
      "[I 2024-01-10 18:02:25,038] Trial 15 finished with value: 5.917614735526696 and parameters: {'lambda_l1': 0.06589166283732234, 'lambda_l2': 0.08218560716368944, 'num_leaves': 126, 'bagging_fraction': 0.931015410268297, 'bagging_freq': 5, 'min_child_samples': 60, 'max_depth': 9}. Best is trial 15 with value: 5.917614735526696.\n"
     ]
    },
    {
     "name": "stdout",
     "output_type": "stream",
     "text": [
      "Early stopping, best iteration is:\n",
      "[44]\ttraining's binary_logloss: 0.376787\tvalid_1's binary_logloss: 0.42444\n",
      "Training until validation scores don't improve for 50 rounds\n"
     ]
    },
    {
     "name": "stderr",
     "output_type": "stream",
     "text": [
      "[I 2024-01-10 18:02:29,734] Trial 16 finished with value: 6.859053443451398 and parameters: {'lambda_l1': 0.03482629349600146, 'lambda_l2': 0.10094669314600851, 'num_leaves': 129, 'bagging_fraction': 0.792624573334375, 'bagging_freq': 5, 'min_child_samples': 42, 'max_depth': 12}. Best is trial 15 with value: 5.917614735526696.\n"
     ]
    },
    {
     "name": "stdout",
     "output_type": "stream",
     "text": [
      "Early stopping, best iteration is:\n",
      "[30]\ttraining's binary_logloss: 0.382463\tvalid_1's binary_logloss: 0.427323\n",
      "Training until validation scores don't improve for 50 rounds\n"
     ]
    },
    {
     "name": "stderr",
     "output_type": "stream",
     "text": [
      "[I 2024-01-10 18:02:32,171] Trial 17 finished with value: 6.724562199462156 and parameters: {'lambda_l1': 0.10906341941155497, 'lambda_l2': 9.920073083551324, 'num_leaves': 208, 'bagging_fraction': 0.642019587950745, 'bagging_freq': 5, 'min_child_samples': 58, 'max_depth': 24}. Best is trial 15 with value: 5.917614735526696.\n"
     ]
    },
    {
     "name": "stdout",
     "output_type": "stream",
     "text": [
      "Early stopping, best iteration is:\n",
      "[155]\ttraining's binary_logloss: 0.374425\tvalid_1's binary_logloss: 0.436646\n",
      "Training until validation scores don't improve for 50 rounds\n"
     ]
    },
    {
     "name": "stderr",
     "output_type": "stream",
     "text": [
      "[I 2024-01-10 18:02:33,561] Trial 18 finished with value: 7.934983395365342 and parameters: {'lambda_l1': 1.3432035777157071e-06, 'lambda_l2': 0.12543624111078988, 'num_leaves': 146, 'bagging_fraction': 0.4122497886992481, 'bagging_freq': 2, 'min_child_samples': 86, 'max_depth': 36}. Best is trial 15 with value: 5.917614735526696.\n"
     ]
    },
    {
     "name": "stdout",
     "output_type": "stream",
     "text": [
      "Early stopping, best iteration is:\n",
      "[49]\ttraining's binary_logloss: 0.465245\tvalid_1's binary_logloss: 0.478337\n",
      "Training until validation scores don't improve for 50 rounds\n"
     ]
    },
    {
     "name": "stderr",
     "output_type": "stream",
     "text": [
      "[I 2024-01-10 18:02:38,254] Trial 19 finished with value: 7.128035931429885 and parameters: {'lambda_l1': 2.811711944331169e-05, 'lambda_l2': 0.027192165542687743, 'num_leaves': 107, 'bagging_fraction': 0.9325785582460675, 'bagging_freq': 4, 'min_child_samples': 16, 'max_depth': 49}. Best is trial 15 with value: 5.917614735526696.\n"
     ]
    },
    {
     "name": "stdout",
     "output_type": "stream",
     "text": [
      "Early stopping, best iteration is:\n",
      "[24]\ttraining's binary_logloss: 0.311237\tvalid_1's binary_logloss: 0.446067\n",
      "Training until validation scores don't improve for 50 rounds\n"
     ]
    },
    {
     "name": "stderr",
     "output_type": "stream",
     "text": [
      "[I 2024-01-10 18:02:41,442] Trial 20 finished with value: 6.724562199462156 and parameters: {'lambda_l1': 0.014441806552038782, 'lambda_l2': 0.0006548576869876933, 'num_leaves': 175, 'bagging_fraction': 0.8333695549731248, 'bagging_freq': 2, 'min_child_samples': 46, 'max_depth': 30}. Best is trial 15 with value: 5.917614735526696.\n"
     ]
    },
    {
     "name": "stdout",
     "output_type": "stream",
     "text": [
      "Early stopping, best iteration is:\n",
      "[29]\ttraining's binary_logloss: 0.379664\tvalid_1's binary_logloss: 0.426598\n",
      "Training until validation scores don't improve for 50 rounds\n"
     ]
    },
    {
     "name": "stderr",
     "output_type": "stream",
     "text": [
      "[I 2024-01-10 18:02:43,700] Trial 21 finished with value: 6.321088467494426 and parameters: {'lambda_l1': 0.546375327372794, 'lambda_l2': 1.9064629035289046e-06, 'num_leaves': 50, 'bagging_fraction': 0.9250169289023751, 'bagging_freq': 6, 'min_child_samples': 64, 'max_depth': 8}. Best is trial 15 with value: 5.917614735526696.\n"
     ]
    },
    {
     "name": "stdout",
     "output_type": "stream",
     "text": [
      "Early stopping, best iteration is:\n",
      "[51]\ttraining's binary_logloss: 0.375654\tvalid_1's binary_logloss: 0.423807\n",
      "Training until validation scores don't improve for 50 rounds\n"
     ]
    },
    {
     "name": "stderr",
     "output_type": "stream",
     "text": [
      "[I 2024-01-10 18:02:45,891] Trial 22 finished with value: 6.186597223505183 and parameters: {'lambda_l1': 0.4728773318657684, 'lambda_l2': 1.0158639170158306e-08, 'num_leaves': 56, 'bagging_fraction': 0.9137999515410163, 'bagging_freq': 6, 'min_child_samples': 62, 'max_depth': 13}. Best is trial 15 with value: 5.917614735526696.\n"
     ]
    },
    {
     "name": "stdout",
     "output_type": "stream",
     "text": [
      "Early stopping, best iteration is:\n",
      "[66]\ttraining's binary_logloss: 0.362038\tvalid_1's binary_logloss: 0.423332\n",
      "Training until validation scores don't improve for 50 rounds\n"
     ]
    },
    {
     "name": "stderr",
     "output_type": "stream",
     "text": [
      "[I 2024-01-10 18:02:46,674] Trial 23 finished with value: 6.05210597951594 and parameters: {'lambda_l1': 0.43138063567571433, 'lambda_l2': 0.00011314890858789656, 'num_leaves': 71, 'bagging_fraction': 0.7381591262389304, 'bagging_freq': 5, 'min_child_samples': 51, 'max_depth': 14}. Best is trial 15 with value: 5.917614735526696.\n"
     ]
    },
    {
     "name": "stdout",
     "output_type": "stream",
     "text": [
      "Early stopping, best iteration is:\n",
      "[54]\ttraining's binary_logloss: 0.375586\tvalid_1's binary_logloss: 0.430387\n",
      "Training until validation scores don't improve for 50 rounds\n"
     ]
    },
    {
     "name": "stderr",
     "output_type": "stream",
     "text": [
      "[I 2024-01-10 18:02:49,047] Trial 24 finished with value: 6.859053443451398 and parameters: {'lambda_l1': 0.00963237757040552, 'lambda_l2': 7.635933079933883e-05, 'num_leaves': 87, 'bagging_fraction': 0.7189584444433452, 'bagging_freq': 5, 'min_child_samples': 36, 'max_depth': 21}. Best is trial 15 with value: 5.917614735526696.\n"
     ]
    },
    {
     "name": "stdout",
     "output_type": "stream",
     "text": [
      "Early stopping, best iteration is:\n",
      "[29]\ttraining's binary_logloss: 0.373216\tvalid_1's binary_logloss: 0.431046\n",
      "Training until validation scores don't improve for 50 rounds\n"
     ]
    },
    {
     "name": "stderr",
     "output_type": "stream",
     "text": [
      "[I 2024-01-10 18:02:49,946] Trial 25 finished with value: 6.321088467494426 and parameters: {'lambda_l1': 0.3006564041560447, 'lambda_l2': 0.00011712989371025972, 'num_leaves': 125, 'bagging_fraction': 0.6593239303197788, 'bagging_freq': 3, 'min_child_samples': 54, 'max_depth': 15}. Best is trial 15 with value: 5.917614735526696.\n"
     ]
    },
    {
     "name": "stdout",
     "output_type": "stream",
     "text": [
      "Early stopping, best iteration is:\n",
      "[81]\ttraining's binary_logloss: 0.360452\tvalid_1's binary_logloss: 0.435262\n",
      "Training until validation scores don't improve for 50 rounds\n"
     ]
    },
    {
     "name": "stderr",
     "output_type": "stream",
     "text": [
      "[I 2024-01-10 18:02:51,187] Trial 26 finished with value: 6.724562199462156 and parameters: {'lambda_l1': 3.119925281449247e-07, 'lambda_l2': 0.005864593513550056, 'num_leaves': 81, 'bagging_fraction': 0.7619955455088723, 'bagging_freq': 4, 'min_child_samples': 48, 'max_depth': 42}. Best is trial 15 with value: 5.917614735526696.\n"
     ]
    },
    {
     "name": "stdout",
     "output_type": "stream",
     "text": [
      "Early stopping, best iteration is:\n",
      "[39]\ttraining's binary_logloss: 0.381393\tvalid_1's binary_logloss: 0.432646\n",
      "Training until validation scores don't improve for 50 rounds\n"
     ]
    },
    {
     "name": "stderr",
     "output_type": "stream",
     "text": [
      "[I 2024-01-10 18:02:54,046] Trial 27 finished with value: 7.39701841940837 and parameters: {'lambda_l1': 0.00013886466252104564, 'lambda_l2': 0.2818517884941403, 'num_leaves': 152, 'bagging_fraction': 0.8030383336920043, 'bagging_freq': 5, 'min_child_samples': 79, 'max_depth': 4}. Best is trial 15 with value: 5.917614735526696.\n"
     ]
    },
    {
     "name": "stdout",
     "output_type": "stream",
     "text": [
      "Early stopping, best iteration is:\n",
      "[53]\ttraining's binary_logloss: 0.404934\tvalid_1's binary_logloss: 0.443614\n",
      "Training until validation scores don't improve for 50 rounds\n"
     ]
    },
    {
     "name": "stderr",
     "output_type": "stream",
     "text": [
      "[I 2024-01-10 18:02:56,511] Trial 28 finished with value: 6.321088467494426 and parameters: {'lambda_l1': 7.176418222081739e-06, 'lambda_l2': 0.0011641337513268693, 'num_leaves': 218, 'bagging_fraction': 0.6819754965958502, 'bagging_freq': 4, 'min_child_samples': 36, 'max_depth': 23}. Best is trial 15 with value: 5.917614735526696.\n"
     ]
    },
    {
     "name": "stdout",
     "output_type": "stream",
     "text": [
      "Early stopping, best iteration is:\n",
      "[35]\ttraining's binary_logloss: 0.366286\tvalid_1's binary_logloss: 0.423157\n",
      "Training until validation scores don't improve for 50 rounds\n"
     ]
    },
    {
     "name": "stderr",
     "output_type": "stream",
     "text": [
      "[I 2024-01-10 18:02:57,582] Trial 29 finished with value: 8.069474639354585 and parameters: {'lambda_l1': 8.806844203649558, 'lambda_l2': 8.349471191566825e-05, 'num_leaves': 35, 'bagging_fraction': 0.5749963864028234, 'bagging_freq': 4, 'min_child_samples': 55, 'max_depth': 38}. Best is trial 15 with value: 5.917614735526696.\n"
     ]
    },
    {
     "name": "stdout",
     "output_type": "stream",
     "text": [
      "Early stopping, best iteration is:\n",
      "[99]\ttraining's binary_logloss: 0.449607\tvalid_1's binary_logloss: 0.454827\n",
      "Training until validation scores don't improve for 50 rounds\n"
     ]
    },
    {
     "name": "stderr",
     "output_type": "stream",
     "text": [
      "[I 2024-01-10 18:02:58,759] Trial 30 finished with value: 6.724562199462156 and parameters: {'lambda_l1': 0.010567191328177633, 'lambda_l2': 0.05228041379144086, 'num_leaves': 120, 'bagging_fraction': 0.8659303952734048, 'bagging_freq': 5, 'min_child_samples': 66, 'max_depth': 32}. Best is trial 15 with value: 5.917614735526696.\n"
     ]
    },
    {
     "name": "stdout",
     "output_type": "stream",
     "text": [
      "Early stopping, best iteration is:\n",
      "[41]\ttraining's binary_logloss: 0.392812\tvalid_1's binary_logloss: 0.437224\n",
      "Training until validation scores don't improve for 50 rounds\n"
     ]
    },
    {
     "name": "stderr",
     "output_type": "stream",
     "text": [
      "[I 2024-01-10 18:03:02,206] Trial 31 finished with value: 6.724562199462156 and parameters: {'lambda_l1': 0.8067437136527152, 'lambda_l2': 1.0805341229846504e-06, 'num_leaves': 62, 'bagging_fraction': 0.9582361328645863, 'bagging_freq': 6, 'min_child_samples': 61, 'max_depth': 12}. Best is trial 15 with value: 5.917614735526696.\n"
     ]
    },
    {
     "name": "stdout",
     "output_type": "stream",
     "text": [
      "Early stopping, best iteration is:\n",
      "[37]\ttraining's binary_logloss: 0.394234\tvalid_1's binary_logloss: 0.426024\n",
      "Training until validation scores don't improve for 50 rounds\n"
     ]
    },
    {
     "name": "stderr",
     "output_type": "stream",
     "text": [
      "[I 2024-01-10 18:03:10,061] Trial 32 finished with value: 7.262527175419128 and parameters: {'lambda_l1': 0.2126782819160875, 'lambda_l2': 1.58297447872842e-08, 'num_leaves': 65, 'bagging_fraction': 0.9006001990841538, 'bagging_freq': 6, 'min_child_samples': 42, 'max_depth': 14}. Best is trial 15 with value: 5.917614735526696.\n"
     ]
    },
    {
     "name": "stdout",
     "output_type": "stream",
     "text": [
      "Early stopping, best iteration is:\n",
      "[33]\ttraining's binary_logloss: 0.361426\tvalid_1's binary_logloss: 0.423948\n",
      "Training until validation scores don't improve for 50 rounds\n"
     ]
    },
    {
     "name": "stderr",
     "output_type": "stream",
     "text": [
      "[I 2024-01-10 18:03:11,870] Trial 33 finished with value: 6.321088467494426 and parameters: {'lambda_l1': 0.042803297292923294, 'lambda_l2': 0.5455081148493761, 'num_leaves': 40, 'bagging_fraction': 0.9944351073402256, 'bagging_freq': 6, 'min_child_samples': 79, 'max_depth': 8}. Best is trial 15 with value: 5.917614735526696.\n"
     ]
    },
    {
     "name": "stdout",
     "output_type": "stream",
     "text": [
      "Early stopping, best iteration is:\n",
      "[87]\ttraining's binary_logloss: 0.356603\tvalid_1's binary_logloss: 0.428839\n",
      "Training until validation scores don't improve for 50 rounds\n"
     ]
    },
    {
     "name": "stderr",
     "output_type": "stream",
     "text": [
      "[I 2024-01-10 18:03:19,998] Trial 34 finished with value: 6.859053443451398 and parameters: {'lambda_l1': 0.9815086466788905, 'lambda_l2': 6.945790657966019, 'num_leaves': 99, 'bagging_fraction': 0.8418999990379152, 'bagging_freq': 3, 'min_child_samples': 50, 'max_depth': 18}. Best is trial 15 with value: 5.917614735526696.\n"
     ]
    },
    {
     "name": "stdout",
     "output_type": "stream",
     "text": [
      "Early stopping, best iteration is:\n",
      "[96]\ttraining's binary_logloss: 0.362635\tvalid_1's binary_logloss: 0.428732\n",
      "Training until validation scores don't improve for 50 rounds\n"
     ]
    },
    {
     "name": "stderr",
     "output_type": "stream",
     "text": [
      "[I 2024-01-10 18:03:21,565] Trial 35 finished with value: 6.590070955472912 and parameters: {'lambda_l1': 0.00027319675017945774, 'lambda_l2': 1.21584103186275e-08, 'num_leaves': 160, 'bagging_fraction': 0.8886941785785134, 'bagging_freq': 5, 'min_child_samples': 68, 'max_depth': 28}. Best is trial 15 with value: 5.917614735526696.\n"
     ]
    },
    {
     "name": "stdout",
     "output_type": "stream",
     "text": [
      "Early stopping, best iteration is:\n",
      "[51]\ttraining's binary_logloss: 0.38225\tvalid_1's binary_logloss: 0.430793\n",
      "Training until validation scores don't improve for 50 rounds\n"
     ]
    },
    {
     "name": "stderr",
     "output_type": "stream",
     "text": [
      "[I 2024-01-10 18:03:22,186] Trial 36 finished with value: 7.128035931429885 and parameters: {'lambda_l1': 1.3220854934101414e-07, 'lambda_l2': 1.0384281515682905e-06, 'num_leaves': 187, 'bagging_fraction': 0.7317372369303721, 'bagging_freq': 6, 'min_child_samples': 56, 'max_depth': 5}. Best is trial 15 with value: 5.917614735526696.\n"
     ]
    },
    {
     "name": "stdout",
     "output_type": "stream",
     "text": [
      "Early stopping, best iteration is:\n",
      "[60]\ttraining's binary_logloss: 0.371185\tvalid_1's binary_logloss: 0.436631\n",
      "Training until validation scores don't improve for 50 rounds\n"
     ]
    },
    {
     "name": "stderr",
     "output_type": "stream",
     "text": [
      "[I 2024-01-10 18:03:22,912] Trial 37 finished with value: 7.39701841940837 and parameters: {'lambda_l1': 0.037016806171550995, 'lambda_l2': 0.0025583687219118975, 'num_leaves': 226, 'bagging_fraction': 0.7661977127374503, 'bagging_freq': 7, 'min_child_samples': 78, 'max_depth': 1}. Best is trial 15 with value: 5.917614735526696.\n"
     ]
    },
    {
     "name": "stdout",
     "output_type": "stream",
     "text": [
      "Early stopping, best iteration is:\n",
      "[170]\ttraining's binary_logloss: 0.437486\tvalid_1's binary_logloss: 0.459515\n",
      "Training until validation scores don't improve for 50 rounds\n"
     ]
    },
    {
     "name": "stderr",
     "output_type": "stream",
     "text": [
      "[I 2024-01-10 18:03:23,412] Trial 38 finished with value: 7.531509663397614 and parameters: {'lambda_l1': 0.005873891164596203, 'lambda_l2': 2.2003535819236097e-07, 'num_leaves': 72, 'bagging_fraction': 0.9550536551625987, 'bagging_freq': 6, 'min_child_samples': 42, 'max_depth': 11}. Best is trial 15 with value: 5.917614735526696.\n"
     ]
    },
    {
     "name": "stdout",
     "output_type": "stream",
     "text": [
      "Early stopping, best iteration is:\n",
      "[24]\ttraining's binary_logloss: 0.371687\tvalid_1's binary_logloss: 0.428195\n",
      "Training until validation scores don't improve for 50 rounds\n"
     ]
    },
    {
     "name": "stderr",
     "output_type": "stream",
     "text": [
      "[I 2024-01-10 18:03:23,909] Trial 39 finished with value: 6.321088467494426 and parameters: {'lambda_l1': 0.003493426893276694, 'lambda_l2': 1.2641070977096458, 'num_leaves': 137, 'bagging_fraction': 0.9085513116611851, 'bagging_freq': 5, 'min_child_samples': 62, 'max_depth': 41}. Best is trial 15 with value: 5.917614735526696.\n"
     ]
    },
    {
     "name": "stdout",
     "output_type": "stream",
     "text": [
      "Early stopping, best iteration is:\n",
      "[68]\ttraining's binary_logloss: 0.359094\tvalid_1's binary_logloss: 0.423949\n",
      "Training until validation scores don't improve for 50 rounds\n"
     ]
    },
    {
     "name": "stderr",
     "output_type": "stream",
     "text": [
      "[I 2024-01-10 18:03:25,714] Trial 40 finished with value: 6.859053443451398 and parameters: {'lambda_l1': 0.1435211251434146, 'lambda_l2': 0.024647465547723582, 'num_leaves': 238, 'bagging_fraction': 0.8759359123919499, 'bagging_freq': 3, 'min_child_samples': 30, 'max_depth': 45}. Best is trial 15 with value: 5.917614735526696.\n"
     ]
    },
    {
     "name": "stdout",
     "output_type": "stream",
     "text": [
      "Early stopping, best iteration is:\n",
      "[37]\ttraining's binary_logloss: 0.325339\tvalid_1's binary_logloss: 0.433341\n",
      "Training until validation scores don't improve for 50 rounds\n"
     ]
    },
    {
     "name": "stderr",
     "output_type": "stream",
     "text": [
      "[I 2024-01-10 18:03:26,378] Trial 41 finished with value: 5.783123491537453 and parameters: {'lambda_l1': 0.6409449461475386, 'lambda_l2': 2.571060917000477e-06, 'num_leaves': 47, 'bagging_fraction': 0.9415328816176557, 'bagging_freq': 6, 'min_child_samples': 66, 'max_depth': 9}. Best is trial 41 with value: 5.783123491537453.\n"
     ]
    },
    {
     "name": "stdout",
     "output_type": "stream",
     "text": [
      "Early stopping, best iteration is:\n",
      "[69]\ttraining's binary_logloss: 0.361441\tvalid_1's binary_logloss: 0.424437\n",
      "Training until validation scores don't improve for 50 rounds\n"
     ]
    },
    {
     "name": "stderr",
     "output_type": "stream",
     "text": [
      "[I 2024-01-10 18:03:28,513] Trial 42 finished with value: 6.99354468744064 and parameters: {'lambda_l1': 1.2112671024747907, 'lambda_l2': 3.831719127901334e-06, 'num_leaves': 27, 'bagging_fraction': 0.9529914091848828, 'bagging_freq': 6, 'min_child_samples': 69, 'max_depth': 10}. Best is trial 41 with value: 5.783123491537453.\n"
     ]
    },
    {
     "name": "stdout",
     "output_type": "stream",
     "text": [
      "Early stopping, best iteration is:\n",
      "[78]\ttraining's binary_logloss: 0.363289\tvalid_1's binary_logloss: 0.432157\n",
      "Training until validation scores don't improve for 50 rounds\n"
     ]
    },
    {
     "name": "stderr",
     "output_type": "stream",
     "text": [
      "[I 2024-01-10 18:03:30,633] Trial 43 finished with value: 7.128035931429885 and parameters: {'lambda_l1': 2.5395377639327354, 'lambda_l2': 3.6350717901455626e-08, 'num_leaves': 47, 'bagging_fraction': 0.9994339221960892, 'bagging_freq': 7, 'min_child_samples': 74, 'max_depth': 6}. Best is trial 41 with value: 5.783123491537453.\n"
     ]
    },
    {
     "name": "stdout",
     "output_type": "stream",
     "text": [
      "Early stopping, best iteration is:\n",
      "[161]\ttraining's binary_logloss: 0.364898\tvalid_1's binary_logloss: 0.429319\n",
      "Training until validation scores don't improve for 50 rounds\n"
     ]
    },
    {
     "name": "stderr",
     "output_type": "stream",
     "text": [
      "[I 2024-01-10 18:03:31,689] Trial 44 finished with value: 8.069474639354585 and parameters: {'lambda_l1': 9.965705749789937, 'lambda_l2': 2.3721364028005343e-07, 'num_leaves': 20, 'bagging_fraction': 0.8128210525982887, 'bagging_freq': 5, 'min_child_samples': 86, 'max_depth': 17}. Best is trial 41 with value: 5.783123491537453.\n"
     ]
    },
    {
     "name": "stdout",
     "output_type": "stream",
     "text": [
      "Early stopping, best iteration is:\n",
      "[135]\ttraining's binary_logloss: 0.447824\tvalid_1's binary_logloss: 0.459514\n",
      "Training until validation scores don't improve for 50 rounds\n"
     ]
    },
    {
     "name": "stderr",
     "output_type": "stream",
     "text": [
      "[I 2024-01-10 18:03:33,998] Trial 45 finished with value: 6.993544687440641 and parameters: {'lambda_l1': 0.47726156183752416, 'lambda_l2': 0.00014574617046222597, 'num_leaves': 100, 'bagging_fraction': 0.846852198416402, 'bagging_freq': 6, 'min_child_samples': 52, 'max_depth': 14}. Best is trial 41 with value: 5.783123491537453.\n"
     ]
    },
    {
     "name": "stdout",
     "output_type": "stream",
     "text": [
      "Early stopping, best iteration is:\n",
      "[36]\ttraining's binary_logloss: 0.389615\tvalid_1's binary_logloss: 0.43667\n",
      "Training until validation scores don't improve for 50 rounds\n"
     ]
    },
    {
     "name": "stderr",
     "output_type": "stream",
     "text": [
      "[I 2024-01-10 18:03:39,202] Trial 46 finished with value: 6.590070955472912 and parameters: {'lambda_l1': 0.0013510535371405257, 'lambda_l2': 3.0294030279557336e-05, 'num_leaves': 87, 'bagging_fraction': 0.9180987917808145, 'bagging_freq': 7, 'min_child_samples': 58, 'max_depth': 8}. Best is trial 41 with value: 5.783123491537453.\n"
     ]
    },
    {
     "name": "stdout",
     "output_type": "stream",
     "text": [
      "Early stopping, best iteration is:\n",
      "[42]\ttraining's binary_logloss: 0.378527\tvalid_1's binary_logloss: 0.426741\n",
      "Training until validation scores don't improve for 50 rounds\n"
     ]
    },
    {
     "name": "stderr",
     "output_type": "stream",
     "text": [
      "[I 2024-01-10 18:03:40,475] Trial 47 finished with value: 6.4555797114836695 and parameters: {'lambda_l1': 0.07175237310852295, 'lambda_l2': 3.5169763987286e-06, 'num_leaves': 72, 'bagging_fraction': 0.7885424799120447, 'bagging_freq': 5, 'min_child_samples': 66, 'max_depth': 20}. Best is trial 41 with value: 5.783123491537453.\n"
     ]
    },
    {
     "name": "stdout",
     "output_type": "stream",
     "text": [
      "Early stopping, best iteration is:\n",
      "[54]\ttraining's binary_logloss: 0.384503\tvalid_1's binary_logloss: 0.432372\n",
      "Training until validation scores don't improve for 50 rounds\n"
     ]
    },
    {
     "name": "stderr",
     "output_type": "stream",
     "text": [
      "[I 2024-01-10 18:03:43,289] Trial 48 finished with value: 7.262527175419128 and parameters: {'lambda_l1': 1.0138414658764167e-08, 'lambda_l2': 0.00034823958546802977, 'num_leaves': 113, 'bagging_fraction': 0.9748137475373542, 'bagging_freq': 4, 'min_child_samples': 45, 'max_depth': 27}. Best is trial 41 with value: 5.783123491537453.\n"
     ]
    },
    {
     "name": "stdout",
     "output_type": "stream",
     "text": [
      "Early stopping, best iteration is:\n",
      "[32]\ttraining's binary_logloss: 0.358067\tvalid_1's binary_logloss: 0.427945\n",
      "Training until validation scores don't improve for 50 rounds\n"
     ]
    },
    {
     "name": "stderr",
     "output_type": "stream",
     "text": [
      "[I 2024-01-10 18:03:49,081] Trial 49 finished with value: 7.128035931429885 and parameters: {'lambda_l1': 2.378693064199714, 'lambda_l2': 3.059561238142437e-05, 'num_leaves': 36, 'bagging_fraction': 0.702672093255342, 'bagging_freq': 6, 'min_child_samples': 73, 'max_depth': 10}. Best is trial 41 with value: 5.783123491537453.\n"
     ]
    },
    {
     "name": "stdout",
     "output_type": "stream",
     "text": [
      "Early stopping, best iteration is:\n",
      "[162]\ttraining's binary_logloss: 0.3907\tvalid_1's binary_logloss: 0.440342\n",
      "Training until validation scores don't improve for 50 rounds\n"
     ]
    },
    {
     "name": "stderr",
     "output_type": "stream",
     "text": [
      "[I 2024-01-10 18:03:53,639] Trial 50 finished with value: 7.128035931429884 and parameters: {'lambda_l1': 1.077900891847071e-05, 'lambda_l2': 0.006551771651727313, 'num_leaves': 56, 'bagging_fraction': 0.7464379628173033, 'bagging_freq': 1, 'min_child_samples': 38, 'max_depth': 4}. Best is trial 41 with value: 5.783123491537453.\n"
     ]
    },
    {
     "name": "stdout",
     "output_type": "stream",
     "text": [
      "Early stopping, best iteration is:\n",
      "[35]\ttraining's binary_logloss: 0.369283\tvalid_1's binary_logloss: 0.425399\n",
      "Training until validation scores don't improve for 50 rounds\n"
     ]
    },
    {
     "name": "stderr",
     "output_type": "stream",
     "text": [
      "[I 2024-01-10 18:03:56,335] Trial 51 finished with value: 6.321088467494426 and parameters: {'lambda_l1': 0.7469499778018005, 'lambda_l2': 6.270643482168748e-07, 'num_leaves': 48, 'bagging_fraction': 0.939137488491224, 'bagging_freq': 6, 'min_child_samples': 66, 'max_depth': 8}. Best is trial 41 with value: 5.783123491537453.\n"
     ]
    },
    {
     "name": "stdout",
     "output_type": "stream",
     "text": [
      "Early stopping, best iteration is:\n",
      "[77]\ttraining's binary_logloss: 0.357535\tvalid_1's binary_logloss: 0.424232\n",
      "Training until validation scores don't improve for 50 rounds\n"
     ]
    },
    {
     "name": "stderr",
     "output_type": "stream",
     "text": [
      "[I 2024-01-10 18:03:59,026] Trial 52 finished with value: 6.724562199462156 and parameters: {'lambda_l1': 0.38168607091231344, 'lambda_l2': 6.341954205194082e-07, 'num_leaves': 6, 'bagging_fraction': 0.9202399797727415, 'bagging_freq': 6, 'min_child_samples': 62, 'max_depth': 12}. Best is trial 41 with value: 5.783123491537453.\n"
     ]
    },
    {
     "name": "stdout",
     "output_type": "stream",
     "text": [
      "Early stopping, best iteration is:\n",
      "[60]\ttraining's binary_logloss: 0.371114\tvalid_1's binary_logloss: 0.428509\n",
      "Training until validation scores don't improve for 50 rounds\n"
     ]
    },
    {
     "name": "stderr",
     "output_type": "stream",
     "text": [
      "[I 2024-01-10 18:04:02,337] Trial 53 finished with value: 6.590070955472912 and parameters: {'lambda_l1': 0.18658351966663536, 'lambda_l2': 3.5460318214415864e-06, 'num_leaves': 18, 'bagging_fraction': 0.8864099196286652, 'bagging_freq': 7, 'min_child_samples': 64, 'max_depth': 2}. Best is trial 41 with value: 5.783123491537453.\n"
     ]
    },
    {
     "name": "stdout",
     "output_type": "stream",
     "text": [
      "Early stopping, best iteration is:\n",
      "[70]\ttraining's binary_logloss: 0.398743\tvalid_1's binary_logloss: 0.425377\n",
      "Training until validation scores don't improve for 50 rounds\n"
     ]
    },
    {
     "name": "stderr",
     "output_type": "stream",
     "text": [
      "[I 2024-01-10 18:04:04,932] Trial 54 finished with value: 7.128035931429884 and parameters: {'lambda_l1': 4.349367951345092, 'lambda_l2': 8.854084743913104e-08, 'num_leaves': 76, 'bagging_fraction': 0.9687945160596982, 'bagging_freq': 2, 'min_child_samples': 50, 'max_depth': 9}. Best is trial 41 with value: 5.783123491537453.\n"
     ]
    },
    {
     "name": "stdout",
     "output_type": "stream",
     "text": [
      "Early stopping, best iteration is:\n",
      "[58]\ttraining's binary_logloss: 0.387963\tvalid_1's binary_logloss: 0.425489\n",
      "Training until validation scores don't improve for 50 rounds\n"
     ]
    },
    {
     "name": "stderr",
     "output_type": "stream",
     "text": [
      "[I 2024-01-10 18:04:08,183] Trial 55 finished with value: 7.128035931429885 and parameters: {'lambda_l1': 0.02096215451387503, 'lambda_l2': 3.46473791503312e-08, 'num_leaves': 63, 'bagging_fraction': 0.863606749742015, 'bagging_freq': 5, 'min_child_samples': 54, 'max_depth': 6}. Best is trial 41 with value: 5.783123491537453.\n"
     ]
    },
    {
     "name": "stdout",
     "output_type": "stream",
     "text": [
      "Early stopping, best iteration is:\n",
      "[30]\ttraining's binary_logloss: 0.400584\tvalid_1's binary_logloss: 0.434383\n",
      "Training until validation scores don't improve for 50 rounds\n"
     ]
    },
    {
     "name": "stderr",
     "output_type": "stream",
     "text": [
      "[I 2024-01-10 18:04:09,371] Trial 56 finished with value: 6.186597223505183 and parameters: {'lambda_l1': 3.032152699673928e-08, 'lambda_l2': 6.3728513393629165e-06, 'num_leaves': 256, 'bagging_fraction': 0.9308821112220044, 'bagging_freq': 5, 'min_child_samples': 58, 'max_depth': 13}. Best is trial 41 with value: 5.783123491537453.\n"
     ]
    },
    {
     "name": "stdout",
     "output_type": "stream",
     "text": [
      "Early stopping, best iteration is:\n",
      "[40]\ttraining's binary_logloss: 0.375149\tvalid_1's binary_logloss: 0.425441\n",
      "Training until validation scores don't improve for 50 rounds\n"
     ]
    },
    {
     "name": "stderr",
     "output_type": "stream",
     "text": [
      "[I 2024-01-10 18:04:11,788] Trial 57 finished with value: 7.531509663397615 and parameters: {'lambda_l1': 4.5916976633647976e-08, 'lambda_l2': 1.040131784376794e-05, 'num_leaves': 247, 'bagging_fraction': 0.593190028739197, 'bagging_freq': 5, 'min_child_samples': 59, 'max_depth': 14}. Best is trial 41 with value: 5.783123491537453.\n"
     ]
    },
    {
     "name": "stdout",
     "output_type": "stream",
     "text": [
      "Early stopping, best iteration is:\n",
      "[48]\ttraining's binary_logloss: 0.413651\tvalid_1's binary_logloss: 0.449824\n",
      "Training until validation scores don't improve for 50 rounds\n"
     ]
    },
    {
     "name": "stderr",
     "output_type": "stream",
     "text": [
      "[I 2024-01-10 18:04:13,890] Trial 58 finished with value: 6.859053443451398 and parameters: {'lambda_l1': 3.653109648585432e-08, 'lambda_l2': 0.13625460038306125, 'num_leaves': 200, 'bagging_fraction': 0.9409747272617967, 'bagging_freq': 4, 'min_child_samples': 47, 'max_depth': 18}. Best is trial 41 with value: 5.783123491537453.\n"
     ]
    },
    {
     "name": "stdout",
     "output_type": "stream",
     "text": [
      "Early stopping, best iteration is:\n",
      "[33]\ttraining's binary_logloss: 0.36105\tvalid_1's binary_logloss: 0.420306\n",
      "Training until validation scores don't improve for 50 rounds\n"
     ]
    },
    {
     "name": "stderr",
     "output_type": "stream",
     "text": [
      "[I 2024-01-10 18:04:16,586] Trial 59 finished with value: 6.321088467494426 and parameters: {'lambda_l1': 2.371861574705852e-07, 'lambda_l2': 0.0003250469566418233, 'num_leaves': 180, 'bagging_fraction': 0.898770675840704, 'bagging_freq': 5, 'min_child_samples': 57, 'max_depth': 22}. Best is trial 41 with value: 5.783123491537453.\n"
     ]
    },
    {
     "name": "stdout",
     "output_type": "stream",
     "text": [
      "Early stopping, best iteration is:\n",
      "[63]\ttraining's binary_logloss: 0.350629\tvalid_1's binary_logloss: 0.425594\n",
      "Training until validation scores don't improve for 50 rounds\n"
     ]
    },
    {
     "name": "stderr",
     "output_type": "stream",
     "text": [
      "[I 2024-01-10 18:04:19,623] Trial 60 finished with value: 6.859053443451399 and parameters: {'lambda_l1': 2.401773074120735e-08, 'lambda_l2': 1.942931821580884e-05, 'num_leaves': 254, 'bagging_fraction': 0.8250650497464532, 'bagging_freq': 3, 'min_child_samples': 71, 'max_depth': 35}. Best is trial 41 with value: 5.783123491537453.\n"
     ]
    },
    {
     "name": "stdout",
     "output_type": "stream",
     "text": [
      "Early stopping, best iteration is:\n",
      "[46]\ttraining's binary_logloss: 0.38843\tvalid_1's binary_logloss: 0.436601\n",
      "Training until validation scores don't improve for 50 rounds\n"
     ]
    },
    {
     "name": "stderr",
     "output_type": "stream",
     "text": [
      "[I 2024-01-10 18:04:22,790] Trial 61 finished with value: 6.321088467494426 and parameters: {'lambda_l1': 0.09007054722022005, 'lambda_l2': 1.922167877687593e-06, 'num_leaves': 30, 'bagging_fraction': 0.9283263210257499, 'bagging_freq': 6, 'min_child_samples': 62, 'max_depth': 12}. Best is trial 41 with value: 5.783123491537453.\n"
     ]
    },
    {
     "name": "stdout",
     "output_type": "stream",
     "text": [
      "Early stopping, best iteration is:\n",
      "[55]\ttraining's binary_logloss: 0.365143\tvalid_1's binary_logloss: 0.419435\n",
      "Training until validation scores don't improve for 50 rounds\n"
     ]
    },
    {
     "name": "stderr",
     "output_type": "stream",
     "text": [
      "[I 2024-01-10 18:04:23,935] Trial 62 finished with value: 6.590070955472912 and parameters: {'lambda_l1': 1.3109045150540528e-07, 'lambda_l2': 4.86790059769606e-05, 'num_leaves': 43, 'bagging_fraction': 0.982113333852577, 'bagging_freq': 6, 'min_child_samples': 52, 'max_depth': 15}. Best is trial 41 with value: 5.783123491537453.\n"
     ]
    },
    {
     "name": "stdout",
     "output_type": "stream",
     "text": [
      "Early stopping, best iteration is:\n",
      "[30]\ttraining's binary_logloss: 0.381326\tvalid_1's binary_logloss: 0.421379\n",
      "Training until validation scores don't improve for 50 rounds\n"
     ]
    },
    {
     "name": "stderr",
     "output_type": "stream",
     "text": [
      "[I 2024-01-10 18:04:24,861] Trial 63 finished with value: 6.993544687440641 and parameters: {'lambda_l1': 1.2444253726249186, 'lambda_l2': 3.4776720438882313e-07, 'num_leaves': 217, 'bagging_fraction': 0.7879970382259545, 'bagging_freq': 5, 'min_child_samples': 64, 'max_depth': 7}. Best is trial 41 with value: 5.783123491537453.\n"
     ]
    },
    {
     "name": "stdout",
     "output_type": "stream",
     "text": [
      "Early stopping, best iteration is:\n",
      "[53]\ttraining's binary_logloss: 0.397691\tvalid_1's binary_logloss: 0.433798\n",
      "Training until validation scores don't improve for 50 rounds\n"
     ]
    },
    {
     "name": "stderr",
     "output_type": "stream",
     "text": [
      "[I 2024-01-10 18:04:26,438] Trial 64 finished with value: 6.590070955472912 and parameters: {'lambda_l1': 0.49054684904732, 'lambda_l2': 0.0008142140661886447, 'num_leaves': 92, 'bagging_fraction': 0.9111776979609544, 'bagging_freq': 4, 'min_child_samples': 48, 'max_depth': 16}. Best is trial 41 with value: 5.783123491537453.\n"
     ]
    },
    {
     "name": "stdout",
     "output_type": "stream",
     "text": [
      "Early stopping, best iteration is:\n",
      "[39]\ttraining's binary_logloss: 0.365749\tvalid_1's binary_logloss: 0.41859\n",
      "Training until validation scores don't improve for 50 rounds\n"
     ]
    },
    {
     "name": "stderr",
     "output_type": "stream",
     "text": [
      "[I 2024-01-10 18:04:27,401] Trial 65 finished with value: 6.859053443451398 and parameters: {'lambda_l1': 0.05947042343174018, 'lambda_l2': 6.617711933901396e-06, 'num_leaves': 54, 'bagging_fraction': 0.8718806073392165, 'bagging_freq': 6, 'min_child_samples': 69, 'max_depth': 12}. Best is trial 41 with value: 5.783123491537453.\n"
     ]
    },
    {
     "name": "stdout",
     "output_type": "stream",
     "text": [
      "Early stopping, best iteration is:\n",
      "[56]\ttraining's binary_logloss: 0.377353\tvalid_1's binary_logloss: 0.431915\n",
      "Training until validation scores don't improve for 50 rounds\n"
     ]
    },
    {
     "name": "stderr",
     "output_type": "stream",
     "text": [
      "[I 2024-01-10 18:04:29,841] Trial 66 finished with value: 7.531509663397615 and parameters: {'lambda_l1': 4.923847782997015, 'lambda_l2': 0.0023952035627851044, 'num_leaves': 164, 'bagging_fraction': 0.6849342936751919, 'bagging_freq': 5, 'min_child_samples': 76, 'max_depth': 9}. Best is trial 41 with value: 5.783123491537453.\n"
     ]
    },
    {
     "name": "stdout",
     "output_type": "stream",
     "text": [
      "Early stopping, best iteration is:\n",
      "[200]\ttraining's binary_logloss: 0.420395\tvalid_1's binary_logloss: 0.452333\n",
      "Training until validation scores don't improve for 50 rounds\n"
     ]
    },
    {
     "name": "stderr",
     "output_type": "stream",
     "text": [
      "[I 2024-01-10 18:04:30,670] Trial 67 finished with value: 6.993544687440641 and parameters: {'lambda_l1': 9.571006966596599e-05, 'lambda_l2': 1.7753993940937112e-06, 'num_leaves': 148, 'bagging_fraction': 0.9464848167108301, 'bagging_freq': 7, 'min_child_samples': 82, 'max_depth': 20}. Best is trial 41 with value: 5.783123491537453.\n"
     ]
    },
    {
     "name": "stdout",
     "output_type": "stream",
     "text": [
      "Early stopping, best iteration is:\n",
      "[69]\ttraining's binary_logloss: 0.376836\tvalid_1's binary_logloss: 0.436544\n",
      "Training until validation scores don't improve for 50 rounds\n"
     ]
    },
    {
     "name": "stderr",
     "output_type": "stream",
     "text": [
      "[I 2024-01-10 18:04:34,010] Trial 68 finished with value: 6.0521059795159395 and parameters: {'lambda_l1': 0.23605303328211802, 'lambda_l2': 3.8911273069927814, 'num_leaves': 137, 'bagging_fraction': 0.850928322095905, 'bagging_freq': 6, 'min_child_samples': 56, 'max_depth': 33}. Best is trial 41 with value: 5.783123491537453.\n"
     ]
    },
    {
     "name": "stdout",
     "output_type": "stream",
     "text": [
      "Early stopping, best iteration is:\n",
      "[84]\ttraining's binary_logloss: 0.357057\tvalid_1's binary_logloss: 0.431187\n",
      "Training until validation scores don't improve for 50 rounds\n"
     ]
    },
    {
     "name": "stderr",
     "output_type": "stream",
     "text": [
      "[I 2024-01-10 18:04:35,623] Trial 69 finished with value: 6.724562199462156 and parameters: {'lambda_l1': 0.2443548792921548, 'lambda_l2': 3.6379061009643863, 'num_leaves': 135, 'bagging_fraction': 0.506597928594409, 'bagging_freq': 5, 'min_child_samples': 40, 'max_depth': 30}. Best is trial 41 with value: 5.783123491537453.\n"
     ]
    },
    {
     "name": "stdout",
     "output_type": "stream",
     "text": [
      "Early stopping, best iteration is:\n",
      "[112]\ttraining's binary_logloss: 0.369524\tvalid_1's binary_logloss: 0.428223\n",
      "Training until validation scores don't improve for 50 rounds\n"
     ]
    },
    {
     "name": "stderr",
     "output_type": "stream",
     "text": [
      "[I 2024-01-10 18:04:39,791] Trial 70 finished with value: 6.0521059795159395 and parameters: {'lambda_l1': 1.0969643225306789e-06, 'lambda_l2': 1.6924317314398463, 'num_leaves': 192, 'bagging_fraction': 0.8468483967895429, 'bagging_freq': 4, 'min_child_samples': 55, 'max_depth': 38}. Best is trial 41 with value: 5.783123491537453.\n"
     ]
    },
    {
     "name": "stdout",
     "output_type": "stream",
     "text": [
      "Early stopping, best iteration is:\n",
      "[108]\ttraining's binary_logloss: 0.325419\tvalid_1's binary_logloss: 0.425483\n",
      "Training until validation scores don't improve for 50 rounds\n"
     ]
    },
    {
     "name": "stderr",
     "output_type": "stream",
     "text": [
      "[I 2024-01-10 18:04:42,873] Trial 71 finished with value: 6.4555797114836695 and parameters: {'lambda_l1': 1.8020544491375202e-06, 'lambda_l2': 1.0615580990220443, 'num_leaves': 192, 'bagging_fraction': 0.8445495071146668, 'bagging_freq': 4, 'min_child_samples': 55, 'max_depth': 37}. Best is trial 41 with value: 5.783123491537453.\n"
     ]
    },
    {
     "name": "stdout",
     "output_type": "stream",
     "text": [
      "Early stopping, best iteration is:\n",
      "[58]\ttraining's binary_logloss: 0.362284\tvalid_1's binary_logloss: 0.427352\n",
      "Training until validation scores don't improve for 50 rounds\n"
     ]
    },
    {
     "name": "stderr",
     "output_type": "stream",
     "text": [
      "[I 2024-01-10 18:04:51,581] Trial 72 finished with value: 6.186597223505183 and parameters: {'lambda_l1': 1.062334379358884e-07, 'lambda_l2': 0.59506872566433, 'num_leaves': 170, 'bagging_fraction': 0.8071121473894147, 'bagging_freq': 4, 'min_child_samples': 59, 'max_depth': 33}. Best is trial 41 with value: 5.783123491537453.\n"
     ]
    },
    {
     "name": "stdout",
     "output_type": "stream",
     "text": [
      "Early stopping, best iteration is:\n",
      "[88]\ttraining's binary_logloss: 0.344108\tvalid_1's binary_logloss: 0.422561\n",
      "Training until validation scores don't improve for 50 rounds\n"
     ]
    },
    {
     "name": "stderr",
     "output_type": "stream",
     "text": [
      "[I 2024-01-10 18:04:54,148] Trial 73 finished with value: 6.4555797114836695 and parameters: {'lambda_l1': 4.200569442214844e-06, 'lambda_l2': 4.263971992084944, 'num_leaves': 155, 'bagging_fraction': 0.8526356798823236, 'bagging_freq': 3, 'min_child_samples': 49, 'max_depth': 39}. Best is trial 41 with value: 5.783123491537453.\n"
     ]
    },
    {
     "name": "stdout",
     "output_type": "stream",
     "text": [
      "Early stopping, best iteration is:\n",
      "[45]\ttraining's binary_logloss: 0.38039\tvalid_1's binary_logloss: 0.429114\n",
      "Training until validation scores don't improve for 50 rounds\n"
     ]
    },
    {
     "name": "stderr",
     "output_type": "stream",
     "text": [
      "[I 2024-01-10 18:04:56,904] Trial 74 finished with value: 6.859053443451398 and parameters: {'lambda_l1': 7.8612137663407e-07, 'lambda_l2': 1.530373459980683, 'num_leaves': 224, 'bagging_fraction': 0.7778128393678422, 'bagging_freq': 2, 'min_child_samples': 54, 'max_depth': 41}. Best is trial 41 with value: 5.783123491537453.\n"
     ]
    },
    {
     "name": "stdout",
     "output_type": "stream",
     "text": [
      "Early stopping, best iteration is:\n",
      "[61]\ttraining's binary_logloss: 0.367474\tvalid_1's binary_logloss: 0.43529\n",
      "Training until validation scores don't improve for 50 rounds\n"
     ]
    },
    {
     "name": "stderr",
     "output_type": "stream",
     "text": [
      "[I 2024-01-10 18:05:00,094] Trial 75 finished with value: 6.993544687440642 and parameters: {'lambda_l1': 2.0137208881532636e-08, 'lambda_l2': 0.2738792708448137, 'num_leaves': 235, 'bagging_fraction': 0.7466313623109824, 'bagging_freq': 4, 'min_child_samples': 43, 'max_depth': 45}. Best is trial 41 with value: 5.783123491537453.\n"
     ]
    },
    {
     "name": "stdout",
     "output_type": "stream",
     "text": [
      "Early stopping, best iteration is:\n",
      "[40]\ttraining's binary_logloss: 0.366992\tvalid_1's binary_logloss: 0.426393\n",
      "Training until validation scores don't improve for 50 rounds\n"
     ]
    },
    {
     "name": "stderr",
     "output_type": "stream",
     "text": [
      "[I 2024-01-10 18:05:14,306] Trial 76 finished with value: 7.397018419408371 and parameters: {'lambda_l1': 5.682614746992358e-07, 'lambda_l2': 2.624445822040381, 'num_leaves': 202, 'bagging_fraction': 0.8299455899767585, 'bagging_freq': 6, 'min_child_samples': 100, 'max_depth': 32}. Best is trial 41 with value: 5.783123491537453.\n"
     ]
    },
    {
     "name": "stdout",
     "output_type": "stream",
     "text": [
      "Early stopping, best iteration is:\n",
      "[162]\ttraining's binary_logloss: 0.389369\tvalid_1's binary_logloss: 0.447598\n",
      "Training until validation scores don't improve for 50 rounds\n"
     ]
    },
    {
     "name": "stderr",
     "output_type": "stream",
     "text": [
      "[I 2024-01-10 18:05:32,610] Trial 77 finished with value: 6.859053443451398 and parameters: {'lambda_l1': 0.10558287478994588, 'lambda_l2': 0.06300346184338744, 'num_leaves': 110, 'bagging_fraction': 0.8855473134596389, 'bagging_freq': 5, 'min_child_samples': 57, 'max_depth': 36}. Best is trial 41 with value: 5.783123491537453.\n"
     ]
    },
    {
     "name": "stdout",
     "output_type": "stream",
     "text": [
      "Early stopping, best iteration is:\n",
      "[43]\ttraining's binary_logloss: 0.3784\tvalid_1's binary_logloss: 0.43095\n",
      "Training until validation scores don't improve for 50 rounds\n"
     ]
    },
    {
     "name": "stderr",
     "output_type": "stream",
     "text": [
      "[I 2024-01-10 18:05:34,659] Trial 78 finished with value: 6.859053443451399 and parameters: {'lambda_l1': 0.0004423051684061023, 'lambda_l2': 0.8853673453107619, 'num_leaves': 117, 'bagging_fraction': 0.7280387370702519, 'bagging_freq': 5, 'min_child_samples': 52, 'max_depth': 34}. Best is trial 41 with value: 5.783123491537453.\n"
     ]
    },
    {
     "name": "stdout",
     "output_type": "stream",
     "text": [
      "Early stopping, best iteration is:\n",
      "[50]\ttraining's binary_logloss: 0.381844\tvalid_1's binary_logloss: 0.427642\n",
      "Training until validation scores don't improve for 50 rounds\n"
     ]
    },
    {
     "name": "stderr",
     "output_type": "stream",
     "text": [
      "[I 2024-01-10 18:05:36,347] Trial 79 finished with value: 6.0521059795159395 and parameters: {'lambda_l1': 9.286226224343027e-08, 'lambda_l2': 0.23221198621808203, 'num_leaves': 211, 'bagging_fraction': 0.9615425051839905, 'bagging_freq': 6, 'min_child_samples': 60, 'max_depth': 39}. Best is trial 41 with value: 5.783123491537453.\n"
     ]
    },
    {
     "name": "stdout",
     "output_type": "stream",
     "text": [
      "Early stopping, best iteration is:\n",
      "[45]\ttraining's binary_logloss: 0.371793\tvalid_1's binary_logloss: 0.420295\n",
      "Training until validation scores don't improve for 50 rounds\n"
     ]
    },
    {
     "name": "stderr",
     "output_type": "stream",
     "text": [
      "[I 2024-01-10 18:05:41,826] Trial 80 finished with value: 7.128035931429885 and parameters: {'lambda_l1': 7.476951391710192e-08, 'lambda_l2': 0.2535500449520278, 'num_leaves': 209, 'bagging_fraction': 0.9576122367601607, 'bagging_freq': 6, 'min_child_samples': 45, 'max_depth': 39}. Best is trial 41 with value: 5.783123491537453.\n"
     ]
    },
    {
     "name": "stdout",
     "output_type": "stream",
     "text": [
      "Early stopping, best iteration is:\n",
      "[35]\ttraining's binary_logloss: 0.355689\tvalid_1's binary_logloss: 0.422635\n",
      "Training until validation scores don't improve for 50 rounds\n"
     ]
    },
    {
     "name": "stderr",
     "output_type": "stream",
     "text": [
      "[I 2024-01-10 18:05:45,165] Trial 81 finished with value: 6.590070955472912 and parameters: {'lambda_l1': 2.0454472597497663e-07, 'lambda_l2': 7.032045916828712, 'num_leaves': 179, 'bagging_fraction': 0.9716694757129711, 'bagging_freq': 6, 'min_child_samples': 59, 'max_depth': 37}. Best is trial 41 with value: 5.783123491537453.\n"
     ]
    },
    {
     "name": "stdout",
     "output_type": "stream",
     "text": [
      "Early stopping, best iteration is:\n",
      "[102]\ttraining's binary_logloss: 0.347219\tvalid_1's binary_logloss: 0.425831\n",
      "Training until validation scores don't improve for 50 rounds\n"
     ]
    },
    {
     "name": "stderr",
     "output_type": "stream",
     "text": [
      "[I 2024-01-10 18:05:49,431] Trial 82 finished with value: 6.590070955472913 and parameters: {'lambda_l1': 2.2573398477989024e-08, 'lambda_l2': 0.15762397656101879, 'num_leaves': 243, 'bagging_fraction': 0.9017170454380573, 'bagging_freq': 7, 'min_child_samples': 61, 'max_depth': 45}. Best is trial 41 with value: 5.783123491537453.\n"
     ]
    },
    {
     "name": "stdout",
     "output_type": "stream",
     "text": [
      "Early stopping, best iteration is:\n",
      "[42]\ttraining's binary_logloss: 0.384154\tvalid_1's binary_logloss: 0.431023\n",
      "Training until validation scores don't improve for 50 rounds\n"
     ]
    },
    {
     "name": "stderr",
     "output_type": "stream",
     "text": [
      "[I 2024-01-10 18:05:50,667] Trial 83 finished with value: 6.186597223505183 and parameters: {'lambda_l1': 6.810933142875054e-08, 'lambda_l2': 0.044320762754735926, 'num_leaves': 195, 'bagging_fraction': 0.9262276202870805, 'bagging_freq': 6, 'min_child_samples': 64, 'max_depth': 41}. Best is trial 41 with value: 5.783123491537453.\n"
     ]
    },
    {
     "name": "stdout",
     "output_type": "stream",
     "text": [
      "Early stopping, best iteration is:\n",
      "[51]\ttraining's binary_logloss: 0.371706\tvalid_1's binary_logloss: 0.427058\n",
      "Training until validation scores don't improve for 50 rounds\n"
     ]
    },
    {
     "name": "stderr",
     "output_type": "stream",
     "text": [
      "[I 2024-01-10 18:05:54,802] Trial 84 finished with value: 6.590070955472912 and parameters: {'lambda_l1': 1.760629837697846, 'lambda_l2': 0.013916847594199698, 'num_leaves': 209, 'bagging_fraction': 0.8732540488819914, 'bagging_freq': 2, 'min_child_samples': 67, 'max_depth': 31}. Best is trial 41 with value: 5.783123491537453.\n"
     ]
    },
    {
     "name": "stdout",
     "output_type": "stream",
     "text": [
      "Early stopping, best iteration is:\n",
      "[110]\ttraining's binary_logloss: 0.364685\tvalid_1's binary_logloss: 0.427513\n",
      "Training until validation scores don't improve for 50 rounds\n"
     ]
    },
    {
     "name": "stderr",
     "output_type": "stream",
     "text": [
      "[I 2024-01-10 18:06:02,513] Trial 85 finished with value: 6.724562199462156 and parameters: {'lambda_l1': 5.288024808365491e-07, 'lambda_l2': 0.5105931724809109, 'num_leaves': 135, 'bagging_fraction': 0.9882404013697804, 'bagging_freq': 6, 'min_child_samples': 56, 'max_depth': 35}. Best is trial 41 with value: 5.783123491537453.\n"
     ]
    },
    {
     "name": "stdout",
     "output_type": "stream",
     "text": [
      "Early stopping, best iteration is:\n",
      "[60]\ttraining's binary_logloss: 0.345128\tvalid_1's binary_logloss: 0.423758\n",
      "Training until validation scores don't improve for 50 rounds\n"
     ]
    },
    {
     "name": "stderr",
     "output_type": "stream",
     "text": [
      "[I 2024-01-10 18:06:23,719] Trial 86 finished with value: 6.993544687440641 and parameters: {'lambda_l1': 1.3493465046908977e-08, 'lambda_l2': 0.0001549100520389203, 'num_leaves': 188, 'bagging_fraction': 0.8023824806096329, 'bagging_freq': 3, 'min_child_samples': 71, 'max_depth': 39}. Best is trial 41 with value: 5.783123491537453.\n"
     ]
    },
    {
     "name": "stdout",
     "output_type": "stream",
     "text": [
      "Early stopping, best iteration is:\n",
      "[66]\ttraining's binary_logloss: 0.377786\tvalid_1's binary_logloss: 0.437798\n",
      "Training until validation scores don't improve for 50 rounds\n"
     ]
    },
    {
     "name": "stderr",
     "output_type": "stream",
     "text": [
      "[I 2024-01-10 18:06:25,971] Trial 87 finished with value: 6.321088467494426 and parameters: {'lambda_l1': 2.41893839221797e-05, 'lambda_l2': 0.08165148666694674, 'num_leaves': 220, 'bagging_fraction': 0.7601425411491347, 'bagging_freq': 4, 'min_child_samples': 50, 'max_depth': 28}. Best is trial 41 with value: 5.783123491537453.\n"
     ]
    },
    {
     "name": "stdout",
     "output_type": "stream",
     "text": [
      "Early stopping, best iteration is:\n",
      "[86]\ttraining's binary_logloss: 0.33557\tvalid_1's binary_logloss: 0.437427\n",
      "Training until validation scores don't improve for 50 rounds\n"
     ]
    },
    {
     "name": "stderr",
     "output_type": "stream",
     "text": [
      "[I 2024-01-10 18:06:28,537] Trial 88 finished with value: 7.39701841940837 and parameters: {'lambda_l1': 0.021369972349530895, 'lambda_l2': 2.110124458154993, 'num_leaves': 167, 'bagging_fraction': 0.9631097786754859, 'bagging_freq': 5, 'min_child_samples': 9, 'max_depth': 43}. Best is trial 41 with value: 5.783123491537453.\n"
     ]
    },
    {
     "name": "stdout",
     "output_type": "stream",
     "text": [
      "Early stopping, best iteration is:\n",
      "[29]\ttraining's binary_logloss: 0.303883\tvalid_1's binary_logloss: 0.435249\n",
      "Training until validation scores don't improve for 50 rounds\n"
     ]
    },
    {
     "name": "stderr",
     "output_type": "stream",
     "text": [
      "[I 2024-01-10 18:06:29,605] Trial 89 finished with value: 6.590070955472913 and parameters: {'lambda_l1': 0.2948408778829393, 'lambda_l2': 0.02641791581765309, 'num_leaves': 229, 'bagging_fraction': 0.9357753203270646, 'bagging_freq': 7, 'min_child_samples': 53, 'max_depth': 25}. Best is trial 41 with value: 5.783123491537453.\n"
     ]
    },
    {
     "name": "stdout",
     "output_type": "stream",
     "text": [
      "Early stopping, best iteration is:\n",
      "[56]\ttraining's binary_logloss: 0.349017\tvalid_1's binary_logloss: 0.419865\n",
      "Training until validation scores don't improve for 50 rounds\n"
     ]
    },
    {
     "name": "stderr",
     "output_type": "stream",
     "text": [
      "[I 2024-01-10 18:06:33,790] Trial 90 finished with value: 6.590070955472912 and parameters: {'lambda_l1': 3.1561583287073704e-07, 'lambda_l2': 0.2230671715043166, 'num_leaves': 124, 'bagging_fraction': 0.8911405950531768, 'bagging_freq': 6, 'min_child_samples': 60, 'max_depth': 11}. Best is trial 41 with value: 5.783123491537453.\n"
     ]
    },
    {
     "name": "stdout",
     "output_type": "stream",
     "text": [
      "Early stopping, best iteration is:\n",
      "[74]\ttraining's binary_logloss: 0.347864\tvalid_1's binary_logloss: 0.428969\n",
      "Training until validation scores don't improve for 50 rounds\n"
     ]
    },
    {
     "name": "stderr",
     "output_type": "stream",
     "text": [
      "[I 2024-01-10 18:06:38,837] Trial 91 finished with value: 6.724562199462156 and parameters: {'lambda_l1': 1.1644693208510311e-07, 'lambda_l2': 0.39662483391514214, 'num_leaves': 174, 'bagging_fraction': 0.8077129142071022, 'bagging_freq': 3, 'min_child_samples': 59, 'max_depth': 33}. Best is trial 41 with value: 5.783123491537453.\n"
     ]
    },
    {
     "name": "stdout",
     "output_type": "stream",
     "text": [
      "Early stopping, best iteration is:\n",
      "[66]\ttraining's binary_logloss: 0.357905\tvalid_1's binary_logloss: 0.425436\n",
      "Training until validation scores don't improve for 50 rounds\n"
     ]
    },
    {
     "name": "stderr",
     "output_type": "stream",
     "text": [
      "[I 2024-01-10 18:06:40,383] Trial 92 finished with value: 6.321088467494426 and parameters: {'lambda_l1': 7.414543367466967e-08, 'lambda_l2': 0.7702796416701728, 'num_leaves': 160, 'bagging_fraction': 0.8395784662206652, 'bagging_freq': 4, 'min_child_samples': 63, 'max_depth': 33}. Best is trial 41 with value: 5.783123491537453.\n"
     ]
    },
    {
     "name": "stdout",
     "output_type": "stream",
     "text": [
      "Early stopping, best iteration is:\n",
      "[60]\ttraining's binary_logloss: 0.371293\tvalid_1's binary_logloss: 0.432722\n",
      "Training until validation scores don't improve for 50 rounds\n"
     ]
    },
    {
     "name": "stderr",
     "output_type": "stream",
     "text": [
      "[I 2024-01-10 18:06:42,981] Trial 93 finished with value: 6.590070955472913 and parameters: {'lambda_l1': 0.6802830921157859, 'lambda_l2': 3.629863532914618, 'num_leaves': 173, 'bagging_fraction': 0.910668600386294, 'bagging_freq': 4, 'min_child_samples': 56, 'max_depth': 37}. Best is trial 41 with value: 5.783123491537453.\n"
     ]
    },
    {
     "name": "stdout",
     "output_type": "stream",
     "text": [
      "Early stopping, best iteration is:\n",
      "[52]\ttraining's binary_logloss: 0.384847\tvalid_1's binary_logloss: 0.436529\n",
      "Training until validation scores don't improve for 50 rounds\n"
     ]
    },
    {
     "name": "stderr",
     "output_type": "stream",
     "text": [
      "[I 2024-01-10 18:06:45,235] Trial 94 finished with value: 7.262527175419128 and parameters: {'lambda_l1': 3.38813434061125e-08, 'lambda_l2': 8.610164473582069, 'num_leaves': 204, 'bagging_fraction': 0.7822801832118653, 'bagging_freq': 5, 'min_child_samples': 47, 'max_depth': 13}. Best is trial 41 with value: 5.783123491537453.\n"
     ]
    },
    {
     "name": "stdout",
     "output_type": "stream",
     "text": [
      "Early stopping, best iteration is:\n",
      "[55]\ttraining's binary_logloss: 0.392777\tvalid_1's binary_logloss: 0.434807\n",
      "Training until validation scores don't improve for 50 rounds\n"
     ]
    },
    {
     "name": "stderr",
     "output_type": "stream",
     "text": [
      "[I 2024-01-10 18:06:48,743] Trial 95 finished with value: 6.321088467494426 and parameters: {'lambda_l1': 0.16369474973491055, 'lambda_l2': 0.4779405497745477, 'num_leaves': 193, 'bagging_fraction': 0.855627245967587, 'bagging_freq': 6, 'min_child_samples': 65, 'max_depth': 29}. Best is trial 41 with value: 5.783123491537453.\n"
     ]
    },
    {
     "name": "stdout",
     "output_type": "stream",
     "text": [
      "Early stopping, best iteration is:\n",
      "[75]\ttraining's binary_logloss: 0.360778\tvalid_1's binary_logloss: 0.434422\n",
      "Training until validation scores don't improve for 50 rounds\n"
     ]
    },
    {
     "name": "stderr",
     "output_type": "stream",
     "text": [
      "[I 2024-01-10 18:06:51,746] Trial 96 finished with value: 6.590070955472912 and parameters: {'lambda_l1': 3.728541565850054e-06, 'lambda_l2': 1.7307572621036296, 'num_leaves': 187, 'bagging_fraction': 0.8112021713639124, 'bagging_freq': 5, 'min_child_samples': 61, 'max_depth': 35}. Best is trial 41 with value: 5.783123491537453.\n"
     ]
    },
    {
     "name": "stdout",
     "output_type": "stream",
     "text": [
      "Early stopping, best iteration is:\n",
      "[109]\ttraining's binary_logloss: 0.339738\tvalid_1's binary_logloss: 0.4238\n",
      "Training until validation scores don't improve for 50 rounds\n"
     ]
    },
    {
     "name": "stderr",
     "output_type": "stream",
     "text": [
      "[I 2024-01-10 18:06:53,958] Trial 97 finished with value: 6.455579711483669 and parameters: {'lambda_l1': 9.778513973435276e-08, 'lambda_l2': 0.7283677334541836, 'num_leaves': 213, 'bagging_fraction': 0.9474638321661094, 'bagging_freq': 5, 'min_child_samples': 58, 'max_depth': 10}. Best is trial 41 with value: 5.783123491537453.\n"
     ]
    },
    {
     "name": "stdout",
     "output_type": "stream",
     "text": [
      "Early stopping, best iteration is:\n",
      "[69]\ttraining's binary_logloss: 0.344529\tvalid_1's binary_logloss: 0.425502\n",
      "Training until validation scores don't improve for 50 rounds\n"
     ]
    },
    {
     "name": "stderr",
     "output_type": "stream",
     "text": [
      "[I 2024-01-10 18:06:57,926] Trial 98 finished with value: 5.917614735526696 and parameters: {'lambda_l1': 1.731676771931746e-07, 'lambda_l2': 2.5072881081170056e-08, 'num_leaves': 143, 'bagging_fraction': 0.8238996647722939, 'bagging_freq': 3, 'min_child_samples': 52, 'max_depth': 38}. Best is trial 41 with value: 5.783123491537453.\n"
     ]
    },
    {
     "name": "stdout",
     "output_type": "stream",
     "text": [
      "Early stopping, best iteration is:\n",
      "[44]\ttraining's binary_logloss: 0.370703\tvalid_1's binary_logloss: 0.430994\n",
      "Training until validation scores don't improve for 50 rounds\n"
     ]
    },
    {
     "name": "stderr",
     "output_type": "stream",
     "text": [
      "[I 2024-01-10 18:06:59,129] Trial 99 finished with value: 6.590070955472912 and parameters: {'lambda_l1': 1.8099516170759384e-07, 'lambda_l2': 2.4457834111474188e-08, 'num_leaves': 140, 'bagging_fraction': 0.82131939000644, 'bagging_freq': 3, 'min_child_samples': 51, 'max_depth': 40}. Best is trial 41 with value: 5.783123491537453.\n"
     ]
    },
    {
     "name": "stdout",
     "output_type": "stream",
     "text": [
      "Early stopping, best iteration is:\n",
      "[66]\ttraining's binary_logloss: 0.340738\tvalid_1's binary_logloss: 0.431352\n",
      "Training until validation scores don't improve for 50 rounds\n"
     ]
    },
    {
     "name": "stderr",
     "output_type": "stream",
     "text": [
      "[I 2024-01-10 18:07:01,287] Trial 100 finished with value: 6.0521059795159395 and parameters: {'lambda_l1': 1.1387213383124257e-06, 'lambda_l2': 4.7696804661920955e-08, 'num_leaves': 60, 'bagging_fraction': 0.7157547813121304, 'bagging_freq': 3, 'min_child_samples': 53, 'max_depth': 38}. Best is trial 41 with value: 5.783123491537453.\n"
     ]
    },
    {
     "name": "stdout",
     "output_type": "stream",
     "text": [
      "Early stopping, best iteration is:\n",
      "[71]\ttraining's binary_logloss: 0.356407\tvalid_1's binary_logloss: 0.433318\n",
      "Training until validation scores don't improve for 50 rounds\n"
     ]
    },
    {
     "name": "stderr",
     "output_type": "stream",
     "text": [
      "[I 2024-01-10 18:07:03,430] Trial 101 finished with value: 6.99354468744064 and parameters: {'lambda_l1': 2.97170802955482e-07, 'lambda_l2': 5.669108196225645e-08, 'num_leaves': 68, 'bagging_fraction': 0.8803130284505033, 'bagging_freq': 3, 'min_child_samples': 54, 'max_depth': 38}. Best is trial 41 with value: 5.783123491537453.\n"
     ]
    },
    {
     "name": "stdout",
     "output_type": "stream",
     "text": [
      "Early stopping, best iteration is:\n",
      "[65]\ttraining's binary_logloss: 0.344048\tvalid_1's binary_logloss: 0.434101\n",
      "Training until validation scores don't improve for 50 rounds\n"
     ]
    },
    {
     "name": "stderr",
     "output_type": "stream",
     "text": [
      "[I 2024-01-10 18:07:05,560] Trial 102 finished with value: 6.724562199462156 and parameters: {'lambda_l1': 9.380390529978204e-07, 'lambda_l2': 1.214554964889228e-08, 'num_leaves': 59, 'bagging_fraction': 0.6968887271636166, 'bagging_freq': 3, 'min_child_samples': 45, 'max_depth': 43}. Best is trial 41 with value: 5.783123491537453.\n"
     ]
    },
    {
     "name": "stdout",
     "output_type": "stream",
     "text": [
      "Early stopping, best iteration is:\n",
      "[42]\ttraining's binary_logloss: 0.375899\tvalid_1's binary_logloss: 0.436882\n",
      "Training until validation scores don't improve for 50 rounds\n"
     ]
    },
    {
     "name": "stderr",
     "output_type": "stream",
     "text": [
      "[I 2024-01-10 18:07:07,314] Trial 103 finished with value: 7.128035931429885 and parameters: {'lambda_l1': 5.262649937382645e-08, 'lambda_l2': 5.568860413003482e-08, 'num_leaves': 75, 'bagging_fraction': 0.6616487567499837, 'bagging_freq': 3, 'min_child_samples': 49, 'max_depth': 38}. Best is trial 41 with value: 5.783123491537453.\n"
     ]
    },
    {
     "name": "stdout",
     "output_type": "stream",
     "text": [
      "Early stopping, best iteration is:\n",
      "[76]\ttraining's binary_logloss: 0.349942\tvalid_1's binary_logloss: 0.440401\n",
      "Training until validation scores don't improve for 50 rounds\n"
     ]
    },
    {
     "name": "stderr",
     "output_type": "stream",
     "text": [
      "[I 2024-01-10 18:07:08,198] Trial 104 finished with value: 6.4555797114836695 and parameters: {'lambda_l1': 1.466524044667829, 'lambda_l2': 2.2929477189313805e-08, 'num_leaves': 84, 'bagging_fraction': 0.7674562217951035, 'bagging_freq': 3, 'min_child_samples': 52, 'max_depth': 36}. Best is trial 41 with value: 5.783123491537453.\n"
     ]
    },
    {
     "name": "stdout",
     "output_type": "stream",
     "text": [
      "Early stopping, best iteration is:\n",
      "[71]\ttraining's binary_logloss: 0.368463\tvalid_1's binary_logloss: 0.426251\n",
      "Training until validation scores don't improve for 50 rounds\n"
     ]
    },
    {
     "name": "stderr",
     "output_type": "stream",
     "text": [
      "[I 2024-01-10 18:07:09,340] Trial 105 finished with value: 6.724562199462156 and parameters: {'lambda_l1': 5.229552325250775e-07, 'lambda_l2': 3.3917307569846244e-07, 'num_leaves': 44, 'bagging_fraction': 0.7130870009070924, 'bagging_freq': 3, 'min_child_samples': 56, 'max_depth': 40}. Best is trial 41 with value: 5.783123491537453.\n"
     ]
    },
    {
     "name": "stdout",
     "output_type": "stream",
     "text": [
      "Early stopping, best iteration is:\n",
      "[72]\ttraining's binary_logloss: 0.360424\tvalid_1's binary_logloss: 0.4326\n",
      "Training until validation scores don't improve for 50 rounds\n"
     ]
    },
    {
     "name": "stderr",
     "output_type": "stream",
     "text": [
      "[I 2024-01-10 18:07:10,420] Trial 106 finished with value: 6.321088467494426 and parameters: {'lambda_l1': 0.39034318866199474, 'lambda_l2': 1.682272756990736e-07, 'num_leaves': 37, 'bagging_fraction': 0.7558496204232097, 'bagging_freq': 2, 'min_child_samples': 54, 'max_depth': 13}. Best is trial 41 with value: 5.783123491537453.\n"
     ]
    },
    {
     "name": "stdout",
     "output_type": "stream",
     "text": [
      "Early stopping, best iteration is:\n",
      "[60]\ttraining's binary_logloss: 0.367481\tvalid_1's binary_logloss: 0.426659\n",
      "Training until validation scores don't improve for 50 rounds\n"
     ]
    },
    {
     "name": "stderr",
     "output_type": "stream",
     "text": [
      "[I 2024-01-10 18:07:11,562] Trial 107 finished with value: 6.724562199462156 and parameters: {'lambda_l1': 1.3234246980292037e-05, 'lambda_l2': 1.4208810130845437e-07, 'num_leaves': 130, 'bagging_fraction': 0.7345362279145318, 'bagging_freq': 6, 'min_child_samples': 40, 'max_depth': 42}. Best is trial 41 with value: 5.783123491537453.\n"
     ]
    },
    {
     "name": "stdout",
     "output_type": "stream",
     "text": [
      "Early stopping, best iteration is:\n",
      "[36]\ttraining's binary_logloss: 0.364376\tvalid_1's binary_logloss: 0.429655\n",
      "Training until validation scores don't improve for 50 rounds\n"
     ]
    },
    {
     "name": "stderr",
     "output_type": "stream",
     "text": [
      "[I 2024-01-10 18:07:12,054] Trial 108 finished with value: 7.262527175419128 and parameters: {'lambda_l1': 1.50149965641664e-06, 'lambda_l2': 6.160204024026985e-06, 'num_leaves': 53, 'bagging_fraction': 0.7943106853262952, 'bagging_freq': 1, 'min_child_samples': 68, 'max_depth': 16}. Best is trial 41 with value: 5.783123491537453.\n"
     ]
    },
    {
     "name": "stdout",
     "output_type": "stream",
     "text": [
      "Early stopping, best iteration is:\n",
      "[59]\ttraining's binary_logloss: 0.378817\tvalid_1's binary_logloss: 0.439304\n",
      "Training until validation scores don't improve for 50 rounds\n"
     ]
    },
    {
     "name": "stderr",
     "output_type": "stream",
     "text": [
      "[I 2024-01-10 18:07:12,358] Trial 109 finished with value: 7.666000907386858 and parameters: {'lambda_l1': 1.5399967109606472e-08, 'lambda_l2': 1.79740532174447e-08, 'num_leaves': 102, 'bagging_fraction': 0.41065858748147116, 'bagging_freq': 2, 'min_child_samples': 47, 'max_depth': 4}. Best is trial 41 with value: 5.783123491537453.\n"
     ]
    },
    {
     "name": "stdout",
     "output_type": "stream",
     "text": [
      "Early stopping, best iteration is:\n",
      "[50]\ttraining's binary_logloss: 0.418516\tvalid_1's binary_logloss: 0.442484\n",
      "Training until validation scores don't improve for 50 rounds\n"
     ]
    },
    {
     "name": "stderr",
     "output_type": "stream",
     "text": [
      "[I 2024-01-10 18:07:13,070] Trial 110 finished with value: 6.590070955472912 and parameters: {'lambda_l1': 2.991068626989612e-06, 'lambda_l2': 4.146668602976556e-08, 'num_leaves': 96, 'bagging_fraction': 0.9166616902754723, 'bagging_freq': 6, 'min_child_samples': 57, 'max_depth': 11}. Best is trial 41 with value: 5.783123491537453.\n"
     ]
    },
    {
     "name": "stdout",
     "output_type": "stream",
     "text": [
      "Early stopping, best iteration is:\n",
      "[36]\ttraining's binary_logloss: 0.382717\tvalid_1's binary_logloss: 0.427418\n",
      "Training until validation scores don't improve for 50 rounds\n"
     ]
    },
    {
     "name": "stderr",
     "output_type": "stream",
     "text": [
      "[I 2024-01-10 18:07:13,494] Trial 111 finished with value: 6.4555797114836695 and parameters: {'lambda_l1': 3.9903796002236735e-08, 'lambda_l2': 1.1929449717645355e-07, 'num_leaves': 146, 'bagging_fraction': 0.8334066472346399, 'bagging_freq': 4, 'min_child_samples': 61, 'max_depth': 34}. Best is trial 41 with value: 5.783123491537453.\n"
     ]
    },
    {
     "name": "stdout",
     "output_type": "stream",
     "text": [
      "Early stopping, best iteration is:\n",
      "[43]\ttraining's binary_logloss: 0.387007\tvalid_1's binary_logloss: 0.433104\n",
      "Training until validation scores don't improve for 50 rounds\n"
     ]
    },
    {
     "name": "stderr",
     "output_type": "stream",
     "text": [
      "[I 2024-01-10 18:07:14,454] Trial 112 finished with value: 6.859053443451398 and parameters: {'lambda_l1': 2.710862211391091e-08, 'lambda_l2': 1.029180794627923e-08, 'num_leaves': 154, 'bagging_fraction': 0.9785543850672112, 'bagging_freq': 4, 'min_child_samples': 59, 'max_depth': 32}. Best is trial 41 with value: 5.783123491537453.\n"
     ]
    },
    {
     "name": "stdout",
     "output_type": "stream",
     "text": [
      "Early stopping, best iteration is:\n",
      "[63]\ttraining's binary_logloss: 0.345359\tvalid_1's binary_logloss: 0.423535\n",
      "Training until validation scores don't improve for 50 rounds\n"
     ]
    },
    {
     "name": "stderr",
     "output_type": "stream",
     "text": [
      "[I 2024-01-10 18:07:15,529] Trial 113 finished with value: 6.321088467494426 and parameters: {'lambda_l1': 3.496888815130987e-07, 'lambda_l2': 5.327916993999822, 'num_leaves': 141, 'bagging_fraction': 0.8574653737436987, 'bagging_freq': 3, 'min_child_samples': 63, 'max_depth': 6}. Best is trial 41 with value: 5.783123491537453.\n"
     ]
    },
    {
     "name": "stdout",
     "output_type": "stream",
     "text": [
      "Early stopping, best iteration is:\n",
      "[96]\ttraining's binary_logloss: 0.35905\tvalid_1's binary_logloss: 0.432187\n",
      "Training until validation scores don't improve for 50 rounds\n"
     ]
    },
    {
     "name": "stderr",
     "output_type": "stream",
     "text": [
      "[I 2024-01-10 18:07:16,604] Trial 114 finished with value: 6.859053443451398 and parameters: {'lambda_l1': 2.005414956421879e-07, 'lambda_l2': 0.0002019181790411157, 'num_leaves': 31, 'bagging_fraction': 0.9335375402445795, 'bagging_freq': 6, 'min_child_samples': 50, 'max_depth': 36}. Best is trial 41 with value: 5.783123491537453.\n"
     ]
    },
    {
     "name": "stdout",
     "output_type": "stream",
     "text": [
      "Early stopping, best iteration is:\n",
      "[30]\ttraining's binary_logloss: 0.378918\tvalid_1's binary_logloss: 0.420271\n",
      "Training until validation scores don't improve for 50 rounds\n"
     ]
    },
    {
     "name": "stderr",
     "output_type": "stream",
     "text": [
      "[I 2024-01-10 18:07:17,586] Trial 115 finished with value: 6.859053443451398 and parameters: {'lambda_l1': 0.8880335448852522, 'lambda_l2': 0.15839258620638397, 'num_leaves': 67, 'bagging_fraction': 0.8982297724240959, 'bagging_freq': 3, 'min_child_samples': 66, 'max_depth': 38}. Best is trial 41 with value: 5.783123491537453.\n"
     ]
    },
    {
     "name": "stdout",
     "output_type": "stream",
     "text": [
      "Early stopping, best iteration is:\n",
      "[93]\ttraining's binary_logloss: 0.356362\tvalid_1's binary_logloss: 0.430822\n",
      "Training until validation scores don't improve for 50 rounds\n"
     ]
    },
    {
     "name": "stderr",
     "output_type": "stream",
     "text": [
      "[I 2024-01-10 18:07:18,638] Trial 116 finished with value: 6.186597223505183 and parameters: {'lambda_l1': 1.2388906966741163e-07, 'lambda_l2': 6.543239416240171e-05, 'num_leaves': 184, 'bagging_fraction': 0.7955677078681315, 'bagging_freq': 5, 'min_child_samples': 55, 'max_depth': 9}. Best is trial 41 with value: 5.783123491537453.\n"
     ]
    },
    {
     "name": "stdout",
     "output_type": "stream",
     "text": [
      "Early stopping, best iteration is:\n",
      "[74]\ttraining's binary_logloss: 0.347209\tvalid_1's binary_logloss: 0.429209\n",
      "Training until validation scores don't improve for 50 rounds\n"
     ]
    },
    {
     "name": "stderr",
     "output_type": "stream",
     "text": [
      "[I 2024-01-10 18:07:19,509] Trial 117 finished with value: 6.993544687440641 and parameters: {'lambda_l1': 0.5720929458365274, 'lambda_l2': 1.2786276927892488, 'num_leaves': 130, 'bagging_fraction': 0.774773830772194, 'bagging_freq': 4, 'min_child_samples': 70, 'max_depth': 34}. Best is trial 41 with value: 5.783123491537453.\n"
     ]
    },
    {
     "name": "stdout",
     "output_type": "stream",
     "text": [
      "Early stopping, best iteration is:\n",
      "[108]\ttraining's binary_logloss: 0.367079\tvalid_1's binary_logloss: 0.442566\n",
      "Training until validation scores don't improve for 50 rounds\n"
     ]
    },
    {
     "name": "stderr",
     "output_type": "stream",
     "text": [
      "[I 2024-01-10 18:07:21,027] Trial 118 finished with value: 6.590070955472913 and parameters: {'lambda_l1': 6.160128301059967e-08, 'lambda_l2': 2.5493028709087673, 'num_leaves': 169, 'bagging_fraction': 0.8268545874279661, 'bagging_freq': 6, 'min_child_samples': 58, 'max_depth': 40}. Best is trial 41 with value: 5.783123491537453.\n"
     ]
    },
    {
     "name": "stdout",
     "output_type": "stream",
     "text": [
      "Early stopping, best iteration is:\n",
      "[130]\ttraining's binary_logloss: 0.329085\tvalid_1's binary_logloss: 0.428877\n",
      "Training until validation scores don't improve for 50 rounds\n"
     ]
    },
    {
     "name": "stderr",
     "output_type": "stream",
     "text": [
      "[I 2024-01-10 18:07:21,974] Trial 119 finished with value: 6.859053443451398 and parameters: {'lambda_l1': 0.14622376971436882, 'lambda_l2': 2.6909020485553015e-05, 'num_leaves': 158, 'bagging_fraction': 0.8671321117354477, 'bagging_freq': 5, 'min_child_samples': 53, 'max_depth': 19}. Best is trial 41 with value: 5.783123491537453.\n"
     ]
    },
    {
     "name": "stdout",
     "output_type": "stream",
     "text": [
      "Early stopping, best iteration is:\n",
      "[30]\ttraining's binary_logloss: 0.401415\tvalid_1's binary_logloss: 0.43203\n",
      "Training until validation scores don't improve for 50 rounds\n"
     ]
    },
    {
     "name": "stderr",
     "output_type": "stream",
     "text": [
      "[I 2024-01-10 18:07:23,113] Trial 120 finished with value: 7.262527175419128 and parameters: {'lambda_l1': 3.152647717336435, 'lambda_l2': 0.0015858944052956191, 'num_leaves': 197, 'bagging_fraction': 0.7505411780176648, 'bagging_freq': 7, 'min_child_samples': 62, 'max_depth': 15}. Best is trial 41 with value: 5.783123491537453.\n"
     ]
    },
    {
     "name": "stdout",
     "output_type": "stream",
     "text": [
      "Early stopping, best iteration is:\n",
      "[70]\ttraining's binary_logloss: 0.407011\tvalid_1's binary_logloss: 0.436932\n",
      "Training until validation scores don't improve for 50 rounds\n"
     ]
    },
    {
     "name": "stderr",
     "output_type": "stream",
     "text": [
      "[I 2024-01-10 18:07:23,429] Trial 121 finished with value: 6.186597223505183 and parameters: {'lambda_l1': 5.935279839670007e-08, 'lambda_l2': 0.03497695781534748, 'num_leaves': 191, 'bagging_fraction': 0.9257701907317413, 'bagging_freq': 6, 'min_child_samples': 65, 'max_depth': 41}. Best is trial 41 with value: 5.783123491537453.\n"
     ]
    },
    {
     "name": "stdout",
     "output_type": "stream",
     "text": [
      "Early stopping, best iteration is:\n",
      "[50]\ttraining's binary_logloss: 0.374864\tvalid_1's binary_logloss: 0.426871\n",
      "Training until validation scores don't improve for 50 rounds\n"
     ]
    },
    {
     "name": "stderr",
     "output_type": "stream",
     "text": [
      "[I 2024-01-10 18:07:25,160] Trial 122 finished with value: 6.590070955472913 and parameters: {'lambda_l1': 8.006181444334781e-08, 'lambda_l2': 0.36891157470970165, 'num_leaves': 196, 'bagging_fraction': 0.9517166134805661, 'bagging_freq': 6, 'min_child_samples': 64, 'max_depth': 44}. Best is trial 41 with value: 5.783123491537453.\n"
     ]
    },
    {
     "name": "stdout",
     "output_type": "stream",
     "text": [
      "Early stopping, best iteration is:\n",
      "[47]\ttraining's binary_logloss: 0.377695\tvalid_1's binary_logloss: 0.426311\n",
      "Training until validation scores don't improve for 50 rounds\n"
     ]
    },
    {
     "name": "stderr",
     "output_type": "stream",
     "text": [
      "[I 2024-01-10 18:07:26,086] Trial 123 finished with value: 6.321088467494426 and parameters: {'lambda_l1': 1.5529330836022685e-07, 'lambda_l2': 0.05242123930239156, 'num_leaves': 181, 'bagging_fraction': 0.9410431150946733, 'bagging_freq': 6, 'min_child_samples': 61, 'max_depth': 48}. Best is trial 41 with value: 5.783123491537453.\n"
     ]
    },
    {
     "name": "stdout",
     "output_type": "stream",
     "text": [
      "Early stopping, best iteration is:\n",
      "[76]\ttraining's binary_logloss: 0.343715\tvalid_1's binary_logloss: 0.423518\n",
      "Training until validation scores don't improve for 50 rounds\n"
     ]
    },
    {
     "name": "stderr",
     "output_type": "stream",
     "text": [
      "[I 2024-01-10 18:07:26,518] Trial 124 finished with value: 6.321088467494426 and parameters: {'lambda_l1': 0.2656128123489519, 'lambda_l2': 0.10915706228604706, 'num_leaves': 205, 'bagging_fraction': 0.9238231887300097, 'bagging_freq': 4, 'min_child_samples': 59, 'max_depth': 37}. Best is trial 41 with value: 5.783123491537453.\n"
     ]
    },
    {
     "name": "stdout",
     "output_type": "stream",
     "text": [
      "Early stopping, best iteration is:\n",
      "[48]\ttraining's binary_logloss: 0.371064\tvalid_1's binary_logloss: 0.423821\n",
      "Training until validation scores don't improve for 50 rounds\n"
     ]
    },
    {
     "name": "stderr",
     "output_type": "stream",
     "text": [
      "[I 2024-01-10 18:07:27,698] Trial 125 finished with value: 6.724562199462156 and parameters: {'lambda_l1': 0.002044561838903011, 'lambda_l2': 0.0005437973785351771, 'num_leaves': 50, 'bagging_fraction': 0.9686467678231603, 'bagging_freq': 4, 'min_child_samples': 57, 'max_depth': 39}. Best is trial 41 with value: 5.783123491537453.\n"
     ]
    },
    {
     "name": "stdout",
     "output_type": "stream",
     "text": [
      "Early stopping, best iteration is:\n",
      "[34]\ttraining's binary_logloss: 0.381567\tvalid_1's binary_logloss: 0.426753\n",
      "Training until validation scores don't improve for 50 rounds\n"
     ]
    },
    {
     "name": "stderr",
     "output_type": "stream",
     "text": [
      "[I 2024-01-10 18:07:28,134] Trial 126 finished with value: 6.724562199462156 and parameters: {'lambda_l1': 1.758458835680286e-08, 'lambda_l2': 0.008696403964918557, 'num_leaves': 61, 'bagging_fraction': 0.7221512956791956, 'bagging_freq': 6, 'min_child_samples': 67, 'max_depth': 33}. Best is trial 41 with value: 5.783123491537453.\n"
     ]
    },
    {
     "name": "stdout",
     "output_type": "stream",
     "text": [
      "Early stopping, best iteration is:\n",
      "[60]\ttraining's binary_logloss: 0.392777\tvalid_1's binary_logloss: 0.440118\n",
      "Training until validation scores don't improve for 50 rounds\n"
     ]
    },
    {
     "name": "stderr",
     "output_type": "stream",
     "text": [
      "[I 2024-01-10 18:07:28,590] Trial 127 finished with value: 6.859053443451398 and parameters: {'lambda_l1': 0.05214404000665694, 'lambda_l2': 0.7076232955043879, 'num_leaves': 148, 'bagging_fraction': 0.8175164873852452, 'bagging_freq': 6, 'min_child_samples': 51, 'max_depth': 36}. Best is trial 41 with value: 5.783123491537453.\n"
     ]
    },
    {
     "name": "stdout",
     "output_type": "stream",
     "text": [
      "Early stopping, best iteration is:\n",
      "[50]\ttraining's binary_logloss: 0.369878\tvalid_1's binary_logloss: 0.436824\n",
      "Training until validation scores don't improve for 50 rounds\n"
     ]
    },
    {
     "name": "stderr",
     "output_type": "stream",
     "text": [
      "[I 2024-01-10 18:07:29,009] Trial 128 finished with value: 6.724562199462156 and parameters: {'lambda_l1': 3.733896428939998e-07, 'lambda_l2': 0.19545377493940164, 'num_leaves': 254, 'bagging_fraction': 0.9066235824117082, 'bagging_freq': 5, 'min_child_samples': 55, 'max_depth': 41}. Best is trial 41 with value: 5.783123491537453.\n"
     ]
    },
    {
     "name": "stdout",
     "output_type": "stream",
     "text": [
      "Early stopping, best iteration is:\n",
      "[56]\ttraining's binary_logloss: 0.354871\tvalid_1's binary_logloss: 0.427987\n",
      "Training until validation scores don't improve for 50 rounds\n"
     ]
    },
    {
     "name": "stderr",
     "output_type": "stream",
     "text": [
      "[I 2024-01-10 18:07:29,616] Trial 129 finished with value: 7.397018419408371 and parameters: {'lambda_l1': 3.082318760879299e-08, 'lambda_l2': 2.9951279417231086e-08, 'num_leaves': 177, 'bagging_fraction': 0.8430719588386403, 'bagging_freq': 4, 'min_child_samples': 72, 'max_depth': 31}. Best is trial 41 with value: 5.783123491537453.\n"
     ]
    },
    {
     "name": "stdout",
     "output_type": "stream",
     "text": [
      "Early stopping, best iteration is:\n",
      "[60]\ttraining's binary_logloss: 0.379658\tvalid_1's binary_logloss: 0.438275\n",
      "Training until validation scores don't improve for 50 rounds\n"
     ]
    },
    {
     "name": "stderr",
     "output_type": "stream",
     "text": [
      "[I 2024-01-10 18:07:30,241] Trial 130 finished with value: 7.128035931429885 and parameters: {'lambda_l1': 1.036337239952334e-06, 'lambda_l2': 0.08858471233038027, 'num_leaves': 239, 'bagging_fraction': 0.9944426964600608, 'bagging_freq': 6, 'min_child_samples': 44, 'max_depth': 42}. Best is trial 41 with value: 5.783123491537453.\n"
     ]
    },
    {
     "name": "stdout",
     "output_type": "stream",
     "text": [
      "Early stopping, best iteration is:\n",
      "[31]\ttraining's binary_logloss: 0.357252\tvalid_1's binary_logloss: 0.430001\n",
      "Training until validation scores don't improve for 50 rounds\n"
     ]
    },
    {
     "name": "stderr",
     "output_type": "stream",
     "text": [
      "[I 2024-01-10 18:07:30,856] Trial 131 finished with value: 6.590070955472912 and parameters: {'lambda_l1': 1.5882962045800924e-07, 'lambda_l2': 6.059875202456156e-05, 'num_leaves': 186, 'bagging_fraction': 0.8094234522618093, 'bagging_freq': 5, 'min_child_samples': 55, 'max_depth': 9}. Best is trial 41 with value: 5.783123491537453.\n"
     ]
    },
    {
     "name": "stdout",
     "output_type": "stream",
     "text": [
      "Early stopping, best iteration is:\n",
      "[39]\ttraining's binary_logloss: 0.387533\tvalid_1's binary_logloss: 0.432628\n",
      "Training until validation scores don't improve for 50 rounds\n"
     ]
    },
    {
     "name": "stderr",
     "output_type": "stream",
     "text": [
      "[I 2024-01-10 18:07:32,042] Trial 132 finished with value: 6.724562199462156 and parameters: {'lambda_l1': 1.1641583650107867e-07, 'lambda_l2': 1.7414747284859314e-08, 'num_leaves': 164, 'bagging_fraction': 0.7844521265493793, 'bagging_freq': 5, 'min_child_samples': 48, 'max_depth': 8}. Best is trial 41 with value: 5.783123491537453.\n"
     ]
    },
    {
     "name": "stdout",
     "output_type": "stream",
     "text": [
      "Early stopping, best iteration is:\n",
      "[51]\ttraining's binary_logloss: 0.357853\tvalid_1's binary_logloss: 0.435019\n",
      "Training until validation scores don't improve for 50 rounds\n"
     ]
    },
    {
     "name": "stderr",
     "output_type": "stream",
     "text": [
      "[I 2024-01-10 18:07:32,771] Trial 133 finished with value: 7.666000907386858 and parameters: {'lambda_l1': 4.6898477178902746e-08, 'lambda_l2': 9.403476084584244e-05, 'num_leaves': 171, 'bagging_fraction': 0.6623593689133318, 'bagging_freq': 5, 'min_child_samples': 60, 'max_depth': 7}. Best is trial 41 with value: 5.783123491537453.\n"
     ]
    },
    {
     "name": "stdout",
     "output_type": "stream",
     "text": [
      "Early stopping, best iteration is:\n",
      "[37]\ttraining's binary_logloss: 0.413112\tvalid_1's binary_logloss: 0.444187\n",
      "Training until validation scores don't improve for 50 rounds\n"
     ]
    },
    {
     "name": "stderr",
     "output_type": "stream",
     "text": [
      "[I 2024-01-10 18:07:34,359] Trial 134 finished with value: 6.859053443451399 and parameters: {'lambda_l1': 9.400704204399022e-08, 'lambda_l2': 1.5178038889929005e-05, 'num_leaves': 184, 'bagging_fraction': 0.7926728237136298, 'bagging_freq': 5, 'min_child_samples': 63, 'max_depth': 11}. Best is trial 41 with value: 5.783123491537453.\n"
     ]
    },
    {
     "name": "stdout",
     "output_type": "stream",
     "text": [
      "Early stopping, best iteration is:\n",
      "[49]\ttraining's binary_logloss: 0.38634\tvalid_1's binary_logloss: 0.431574\n",
      "Training until validation scores don't improve for 50 rounds\n"
     ]
    },
    {
     "name": "stderr",
     "output_type": "stream",
     "text": [
      "[I 2024-01-10 18:07:36,690] Trial 135 finished with value: 6.186597223505183 and parameters: {'lambda_l1': 1.2549032671388224e-07, 'lambda_l2': 9.629566303517151e-07, 'num_leaves': 198, 'bagging_fraction': 0.9559549859513906, 'bagging_freq': 6, 'min_child_samples': 53, 'max_depth': 13}. Best is trial 41 with value: 5.783123491537453.\n"
     ]
    },
    {
     "name": "stdout",
     "output_type": "stream",
     "text": [
      "Early stopping, best iteration is:\n",
      "[32]\ttraining's binary_logloss: 0.381872\tvalid_1's binary_logloss: 0.420283\n",
      "Training until validation scores don't improve for 50 rounds\n"
     ]
    },
    {
     "name": "stderr",
     "output_type": "stream",
     "text": [
      "[I 2024-01-10 18:07:38,416] Trial 136 finished with value: 6.455579711483669 and parameters: {'lambda_l1': 2.429024023700783e-07, 'lambda_l2': 4.004759454103548e-05, 'num_leaves': 213, 'bagging_fraction': 0.7974205029205418, 'bagging_freq': 4, 'min_child_samples': 57, 'max_depth': 9}. Best is trial 41 with value: 5.783123491537453.\n"
     ]
    },
    {
     "name": "stdout",
     "output_type": "stream",
     "text": [
      "Early stopping, best iteration is:\n",
      "[88]\ttraining's binary_logloss: 0.339602\tvalid_1's binary_logloss: 0.423995\n",
      "Training until validation scores don't improve for 50 rounds\n"
     ]
    },
    {
     "name": "stderr",
     "output_type": "stream",
     "text": [
      "[I 2024-01-10 18:07:39,792] Trial 137 finished with value: 6.0521059795159395 and parameters: {'lambda_l1': 7.377178357461422e-08, 'lambda_l2': 0.04020007241811104, 'num_leaves': 194, 'bagging_fraction': 0.8896769669257591, 'bagging_freq': 5, 'min_child_samples': 52, 'max_depth': 35}. Best is trial 41 with value: 5.783123491537453.\n"
     ]
    },
    {
     "name": "stdout",
     "output_type": "stream",
     "text": [
      "Early stopping, best iteration is:\n",
      "[45]\ttraining's binary_logloss: 0.367325\tvalid_1's binary_logloss: 0.423283\n",
      "Training until validation scores don't improve for 50 rounds\n"
     ]
    },
    {
     "name": "stderr",
     "output_type": "stream",
     "text": [
      "[I 2024-01-10 18:07:41,191] Trial 138 finished with value: 6.321088467494426 and parameters: {'lambda_l1': 3.8532033101332396e-08, 'lambda_l2': 0.3242881384872486, 'num_leaves': 194, 'bagging_fraction': 0.893777379346159, 'bagging_freq': 6, 'min_child_samples': 50, 'max_depth': 35}. Best is trial 41 with value: 5.783123491537453.\n"
     ]
    },
    {
     "name": "stdout",
     "output_type": "stream",
     "text": [
      "Early stopping, best iteration is:\n",
      "[39]\ttraining's binary_logloss: 0.372711\tvalid_1's binary_logloss: 0.421545\n",
      "Training until validation scores don't improve for 50 rounds\n"
     ]
    },
    {
     "name": "stderr",
     "output_type": "stream",
     "text": [
      "[I 2024-01-10 18:07:43,808] Trial 139 finished with value: 6.859053443451398 and parameters: {'lambda_l1': 1.1691096603744433e-08, 'lambda_l2': 0.04029994690076276, 'num_leaves': 79, 'bagging_fraction': 0.9169200055609524, 'bagging_freq': 3, 'min_child_samples': 46, 'max_depth': 38}. Best is trial 41 with value: 5.783123491537453.\n"
     ]
    },
    {
     "name": "stdout",
     "output_type": "stream",
     "text": [
      "Early stopping, best iteration is:\n",
      "[30]\ttraining's binary_logloss: 0.373775\tvalid_1's binary_logloss: 0.428652\n",
      "Training until validation scores don't improve for 50 rounds\n"
     ]
    },
    {
     "name": "stderr",
     "output_type": "stream",
     "text": [
      "[I 2024-01-10 18:07:47,534] Trial 140 finished with value: 6.0521059795159395 and parameters: {'lambda_l1': 0.005886135778428493, 'lambda_l2': 0.004087469360596384, 'num_leaves': 119, 'bagging_fraction': 0.8762549026898867, 'bagging_freq': 4, 'min_child_samples': 51, 'max_depth': 37}. Best is trial 41 with value: 5.783123491537453.\n"
     ]
    },
    {
     "name": "stdout",
     "output_type": "stream",
     "text": [
      "Early stopping, best iteration is:\n",
      "[47]\ttraining's binary_logloss: 0.363915\tvalid_1's binary_logloss: 0.42788\n",
      "Training until validation scores don't improve for 50 rounds\n"
     ]
    },
    {
     "name": "stderr",
     "output_type": "stream",
     "text": [
      "[I 2024-01-10 18:07:49,002] Trial 141 finished with value: 6.590070955472912 and parameters: {'lambda_l1': 0.00616990257167175, 'lambda_l2': 0.02327513838549587, 'num_leaves': 125, 'bagging_fraction': 0.8865411137954576, 'bagging_freq': 4, 'min_child_samples': 52, 'max_depth': 35}. Best is trial 41 with value: 5.783123491537453.\n"
     ]
    },
    {
     "name": "stdout",
     "output_type": "stream",
     "text": [
      "Early stopping, best iteration is:\n",
      "[42]\ttraining's binary_logloss: 0.37421\tvalid_1's binary_logloss: 0.431143\n",
      "Training until validation scores don't improve for 50 rounds\n"
     ]
    },
    {
     "name": "stderr",
     "output_type": "stream",
     "text": [
      "[I 2024-01-10 18:07:50,849] Trial 142 finished with value: 6.859053443451398 and parameters: {'lambda_l1': 0.034836529944090366, 'lambda_l2': 0.0027593573676032773, 'num_leaves': 108, 'bagging_fraction': 0.8751966385520508, 'bagging_freq': 4, 'min_child_samples': 48, 'max_depth': 37}. Best is trial 41 with value: 5.783123491537453.\n"
     ]
    },
    {
     "name": "stdout",
     "output_type": "stream",
     "text": [
      "Early stopping, best iteration is:\n",
      "[32]\ttraining's binary_logloss: 0.379154\tvalid_1's binary_logloss: 0.428666\n",
      "Training until validation scores don't improve for 50 rounds\n"
     ]
    },
    {
     "name": "stderr",
     "output_type": "stream",
     "text": [
      "[I 2024-01-10 18:07:52,267] Trial 143 finished with value: 6.99354468744064 and parameters: {'lambda_l1': 0.00028408604276512685, 'lambda_l2': 0.004294630923644334, 'num_leaves': 141, 'bagging_fraction': 0.8622975023006243, 'bagging_freq': 3, 'min_child_samples': 60, 'max_depth': 40}. Best is trial 41 with value: 5.783123491537453.\n"
     ]
    },
    {
     "name": "stdout",
     "output_type": "stream",
     "text": [
      "Early stopping, best iteration is:\n",
      "[35]\ttraining's binary_logloss: 0.394768\tvalid_1's binary_logloss: 0.429765\n",
      "Training until validation scores don't improve for 50 rounds\n"
     ]
    },
    {
     "name": "stderr",
     "output_type": "stream",
     "text": [
      "[I 2024-01-10 18:07:54,397] Trial 144 finished with value: 6.590070955472912 and parameters: {'lambda_l1': 0.4715445587641332, 'lambda_l2': 0.05588388249701473, 'num_leaves': 121, 'bagging_fraction': 0.9308082596602669, 'bagging_freq': 4, 'min_child_samples': 53, 'max_depth': 39}. Best is trial 41 with value: 5.783123491537453.\n"
     ]
    },
    {
     "name": "stdout",
     "output_type": "stream",
     "text": [
      "Early stopping, best iteration is:\n",
      "[47]\ttraining's binary_logloss: 0.36165\tvalid_1's binary_logloss: 0.422063\n",
      "Training until validation scores don't improve for 50 rounds\n"
     ]
    },
    {
     "name": "stderr",
     "output_type": "stream",
     "text": [
      "[I 2024-01-10 18:07:55,747] Trial 145 finished with value: 6.993544687440641 and parameters: {'lambda_l1': 0.016063627665497827, 'lambda_l2': 0.13704159884979966, 'num_leaves': 58, 'bagging_fraction': 0.9021351798762601, 'bagging_freq': 5, 'min_child_samples': 58, 'max_depth': 34}. Best is trial 41 with value: 5.783123491537453.\n"
     ]
    },
    {
     "name": "stdout",
     "output_type": "stream",
     "text": [
      "Early stopping, best iteration is:\n",
      "[57]\ttraining's binary_logloss: 0.360269\tvalid_1's binary_logloss: 0.426197\n",
      "Training until validation scores don't improve for 50 rounds\n"
     ]
    },
    {
     "name": "stderr",
     "output_type": "stream",
     "text": [
      "[I 2024-01-10 18:07:56,552] Trial 146 finished with value: 6.590070955472913 and parameters: {'lambda_l1': 0.11431534644806855, 'lambda_l2': 0.011101452500435092, 'num_leaves': 41, 'bagging_fraction': 0.8431670562048853, 'bagging_freq': 3, 'min_child_samples': 51, 'max_depth': 37}. Best is trial 41 with value: 5.783123491537453.\n"
     ]
    },
    {
     "name": "stdout",
     "output_type": "stream",
     "text": [
      "Early stopping, best iteration is:\n",
      "[36]\ttraining's binary_logloss: 0.385023\tvalid_1's binary_logloss: 0.435315\n",
      "Training until validation scores don't improve for 50 rounds\n"
     ]
    },
    {
     "name": "stderr",
     "output_type": "stream",
     "text": [
      "[I 2024-01-10 18:07:58,300] Trial 147 finished with value: 6.321088467494426 and parameters: {'lambda_l1': 0.32523474153564397, 'lambda_l2': 6.902873522233811e-08, 'num_leaves': 202, 'bagging_fraction': 0.8798458173709836, 'bagging_freq': 6, 'min_child_samples': 25, 'max_depth': 31}. Best is trial 41 with value: 5.783123491537453.\n"
     ]
    },
    {
     "name": "stdout",
     "output_type": "stream",
     "text": [
      "Early stopping, best iteration is:\n",
      "[36]\ttraining's binary_logloss: 0.322946\tvalid_1's binary_logloss: 0.426778\n",
      "Training until validation scores don't improve for 50 rounds\n"
     ]
    },
    {
     "name": "stderr",
     "output_type": "stream",
     "text": [
      "[I 2024-01-10 18:07:59,185] Trial 148 finished with value: 6.724562199462156 and parameters: {'lambda_l1': 7.151013520059542e-08, 'lambda_l2': 0.022029937276755947, 'num_leaves': 117, 'bagging_fraction': 0.7033929072553431, 'bagging_freq': 4, 'min_child_samples': 41, 'max_depth': 26}. Best is trial 41 with value: 5.783123491537453.\n"
     ]
    },
    {
     "name": "stdout",
     "output_type": "stream",
     "text": [
      "Early stopping, best iteration is:\n",
      "[40]\ttraining's binary_logloss: 0.367655\tvalid_1's binary_logloss: 0.423512\n",
      "Training until validation scores don't improve for 50 rounds\n"
     ]
    },
    {
     "name": "stderr",
     "output_type": "stream",
     "text": [
      "[I 2024-01-10 18:08:00,966] Trial 149 finished with value: 6.590070955472913 and parameters: {'lambda_l1': 7.267814113220998e-06, 'lambda_l2': 1.2232346105945962, 'num_leaves': 224, 'bagging_fraction': 0.9451539326209484, 'bagging_freq': 5, 'min_child_samples': 56, 'max_depth': 38}. Best is trial 41 with value: 5.783123491537453.\n"
     ]
    },
    {
     "name": "stdout",
     "output_type": "stream",
     "text": [
      "Early stopping, best iteration is:\n",
      "[53]\ttraining's binary_logloss: 0.359526\tvalid_1's binary_logloss: 0.424659\n",
      "Training until validation scores don't improve for 50 rounds\n"
     ]
    },
    {
     "name": "stderr",
     "output_type": "stream",
     "text": [
      "[I 2024-01-10 18:08:01,625] Trial 150 finished with value: 6.993544687440641 and parameters: {'lambda_l1': 5.283549122198314e-05, 'lambda_l2': 0.08073426495679198, 'num_leaves': 134, 'bagging_fraction': 0.6810107173316385, 'bagging_freq': 3, 'min_child_samples': 63, 'max_depth': 36}. Best is trial 41 with value: 5.783123491537453.\n"
     ]
    },
    {
     "name": "stdout",
     "output_type": "stream",
     "text": [
      "Early stopping, best iteration is:\n",
      "[93]\ttraining's binary_logloss: 0.365692\tvalid_1's binary_logloss: 0.437467\n",
      "Training until validation scores don't improve for 50 rounds\n"
     ]
    },
    {
     "name": "stderr",
     "output_type": "stream",
     "text": [
      "[I 2024-01-10 18:08:02,959] Trial 151 finished with value: 6.724562199462156 and parameters: {'lambda_l1': 0.0006597165575026402, 'lambda_l2': 8.188171140081814e-06, 'num_leaves': 183, 'bagging_fraction': 0.8268635864929572, 'bagging_freq': 5, 'min_child_samples': 55, 'max_depth': 10}. Best is trial 41 with value: 5.783123491537453.\n"
     ]
    },
    {
     "name": "stdout",
     "output_type": "stream",
     "text": [
      "Early stopping, best iteration is:\n",
      "[40]\ttraining's binary_logloss: 0.382835\tvalid_1's binary_logloss: 0.431117\n",
      "Training until validation scores don't improve for 50 rounds\n"
     ]
    },
    {
     "name": "stderr",
     "output_type": "stream",
     "text": [
      "[I 2024-01-10 18:08:03,758] Trial 152 finished with value: 6.321088467494426 and parameters: {'lambda_l1': 1.1135808068626265, 'lambda_l2': 1.9649937134328544e-06, 'num_leaves': 190, 'bagging_fraction': 0.8523042151893498, 'bagging_freq': 5, 'min_child_samples': 55, 'max_depth': 14}. Best is trial 41 with value: 5.783123491537453.\n"
     ]
    },
    {
     "name": "stdout",
     "output_type": "stream",
     "text": [
      "Early stopping, best iteration is:\n",
      "[65]\ttraining's binary_logloss: 0.365393\tvalid_1's binary_logloss: 0.432959\n",
      "Training until validation scores don't improve for 50 rounds\n"
     ]
    },
    {
     "name": "stderr",
     "output_type": "stream",
     "text": [
      "[I 2024-01-10 18:08:05,035] Trial 153 finished with value: 5.783123491537453 and parameters: {'lambda_l1': 0.19409975820728098, 'lambda_l2': 0.5035718380758294, 'num_leaves': 176, 'bagging_fraction': 0.8344049344601209, 'bagging_freq': 5, 'min_child_samples': 49, 'max_depth': 40}. Best is trial 41 with value: 5.783123491537453.\n"
     ]
    },
    {
     "name": "stdout",
     "output_type": "stream",
     "text": [
      "Early stopping, best iteration is:\n",
      "[74]\ttraining's binary_logloss: 0.335496\tvalid_1's binary_logloss: 0.426477\n",
      "Training until validation scores don't improve for 50 rounds\n"
     ]
    },
    {
     "name": "stderr",
     "output_type": "stream",
     "text": [
      "[I 2024-01-10 18:08:06,021] Trial 154 finished with value: 6.186597223505183 and parameters: {'lambda_l1': 0.19028917969322726, 'lambda_l2': 0.5077868762706494, 'num_leaves': 115, 'bagging_fraction': 0.8644355167157605, 'bagging_freq': 5, 'min_child_samples': 49, 'max_depth': 42}. Best is trial 41 with value: 5.783123491537453.\n"
     ]
    },
    {
     "name": "stdout",
     "output_type": "stream",
     "text": [
      "Early stopping, best iteration is:\n",
      "[50]\ttraining's binary_logloss: 0.357824\tvalid_1's binary_logloss: 0.427044\n",
      "Training until validation scores don't improve for 50 rounds\n"
     ]
    },
    {
     "name": "stderr",
     "output_type": "stream",
     "text": [
      "[I 2024-01-10 18:08:06,997] Trial 155 finished with value: 7.39701841940837 and parameters: {'lambda_l1': 0.7569677070892833, 'lambda_l2': 0.2590415340172922, 'num_leaves': 177, 'bagging_fraction': 0.9095891976951689, 'bagging_freq': 6, 'min_child_samples': 43, 'max_depth': 40}. Best is trial 41 with value: 5.783123491537453.\n"
     ]
    },
    {
     "name": "stdout",
     "output_type": "stream",
     "text": [
      "Early stopping, best iteration is:\n",
      "[36]\ttraining's binary_logloss: 0.363997\tvalid_1's binary_logloss: 0.426372\n",
      "Training until validation scores don't improve for 50 rounds\n"
     ]
    },
    {
     "name": "stderr",
     "output_type": "stream",
     "text": [
      "[I 2024-01-10 18:08:07,514] Trial 156 finished with value: 6.4555797114836695 and parameters: {'lambda_l1': 0.22164433039319542, 'lambda_l2': 0.9459136895137307, 'num_leaves': 213, 'bagging_fraction': 0.8505915310339276, 'bagging_freq': 4, 'min_child_samples': 46, 'max_depth': 33}. Best is trial 41 with value: 5.783123491537453.\n"
     ]
    },
    {
     "name": "stdout",
     "output_type": "stream",
     "text": [
      "Early stopping, best iteration is:\n",
      "[38]\ttraining's binary_logloss: 0.376314\tvalid_1's binary_logloss: 0.430031\n",
      "Training until validation scores don't improve for 50 rounds\n"
     ]
    },
    {
     "name": "stderr",
     "output_type": "stream",
     "text": [
      "[I 2024-01-10 18:08:08,623] Trial 157 finished with value: 6.99354468744064 and parameters: {'lambda_l1': 0.06375258927175508, 'lambda_l2': 1.8086368488901046, 'num_leaves': 151, 'bagging_fraction': 0.8338337876767803, 'bagging_freq': 6, 'min_child_samples': 52, 'max_depth': 38}. Best is trial 41 with value: 5.783123491537453.\n"
     ]
    },
    {
     "name": "stdout",
     "output_type": "stream",
     "text": [
      "Early stopping, best iteration is:\n",
      "[36]\ttraining's binary_logloss: 0.39886\tvalid_1's binary_logloss: 0.437657\n",
      "Training until validation scores don't improve for 50 rounds\n"
     ]
    },
    {
     "name": "stderr",
     "output_type": "stream",
     "text": [
      "[I 2024-01-10 18:08:10,842] Trial 158 finished with value: 6.590070955472913 and parameters: {'lambda_l1': 0.1012327472501547, 'lambda_l2': 0.6239147089294037, 'num_leaves': 207, 'bagging_fraction': 0.8165271004864361, 'bagging_freq': 5, 'min_child_samples': 49, 'max_depth': 41}. Best is trial 41 with value: 5.783123491537453.\n"
     ]
    },
    {
     "name": "stdout",
     "output_type": "stream",
     "text": [
      "Early stopping, best iteration is:\n",
      "[49]\ttraining's binary_logloss: 0.365086\tvalid_1's binary_logloss: 0.430058\n",
      "Training until validation scores don't improve for 50 rounds\n"
     ]
    },
    {
     "name": "stderr",
     "output_type": "stream",
     "text": [
      "[I 2024-01-10 18:08:13,971] Trial 159 finished with value: 6.4555797114836695 and parameters: {'lambda_l1': 2.309867329589347e-08, 'lambda_l2': 0.2052850610682619, 'num_leaves': 46, 'bagging_fraction': 0.929669657279772, 'bagging_freq': 6, 'min_child_samples': 65, 'max_depth': 35}. Best is trial 41 with value: 5.783123491537453.\n"
     ]
    },
    {
     "name": "stdout",
     "output_type": "stream",
     "text": [
      "Early stopping, best iteration is:\n",
      "[78]\ttraining's binary_logloss: 0.349023\tvalid_1's binary_logloss: 0.428139\n",
      "Training until validation scores don't improve for 50 rounds\n"
     ]
    },
    {
     "name": "stderr",
     "output_type": "stream",
     "text": [
      "[I 2024-01-10 18:08:16,346] Trial 160 finished with value: 6.590070955472913 and parameters: {'lambda_l1': 0.487767880299433, 'lambda_l2': 1.4399140155502559e-08, 'num_leaves': 12, 'bagging_fraction': 0.9644980554149261, 'bagging_freq': 3, 'min_child_samples': 60, 'max_depth': 17}. Best is trial 41 with value: 5.783123491537453.\n"
     ]
    },
    {
     "name": "stdout",
     "output_type": "stream",
     "text": [
      "Early stopping, best iteration is:\n",
      "[78]\ttraining's binary_logloss: 0.34423\tvalid_1's binary_logloss: 0.425362\n",
      "Training until validation scores don't improve for 50 rounds\n"
     ]
    },
    {
     "name": "stderr",
     "output_type": "stream",
     "text": [
      "[I 2024-01-10 18:08:19,662] Trial 161 finished with value: 6.186597223505183 and parameters: {'lambda_l1': 8.00642862696522e-08, 'lambda_l2': 0.0002917906167149336, 'num_leaves': 188, 'bagging_fraction': 0.8017878783613313, 'bagging_freq': 5, 'min_child_samples': 54, 'max_depth': 5}. Best is trial 41 with value: 5.783123491537453.\n"
     ]
    },
    {
     "name": "stdout",
     "output_type": "stream",
     "text": [
      "Early stopping, best iteration is:\n",
      "[82]\ttraining's binary_logloss: 0.340672\tvalid_1's binary_logloss: 0.426277\n",
      "Training until validation scores don't improve for 50 rounds\n"
     ]
    },
    {
     "name": "stderr",
     "output_type": "stream",
     "text": [
      "[I 2024-01-10 18:08:21,596] Trial 162 finished with value: 6.321088467494426 and parameters: {'lambda_l1': 5.080613354226394e-07, 'lambda_l2': 0.00013333901723324565, 'num_leaves': 182, 'bagging_fraction': 0.9159026276623362, 'bagging_freq': 5, 'min_child_samples': 57, 'max_depth': 37}. Best is trial 41 with value: 5.783123491537453.\n"
     ]
    },
    {
     "name": "stdout",
     "output_type": "stream",
     "text": [
      "Early stopping, best iteration is:\n",
      "[40]\ttraining's binary_logloss: 0.380909\tvalid_1's binary_logloss: 0.426431\n",
      "Training until validation scores don't improve for 50 rounds\n"
     ]
    },
    {
     "name": "stderr",
     "output_type": "stream",
     "text": [
      "[I 2024-01-10 18:08:23,981] Trial 163 finished with value: 7.128035931429884 and parameters: {'lambda_l1': 5.214570137512515e-08, 'lambda_l2': 0.0005239894877107179, 'num_leaves': 70, 'bagging_fraction': 0.46931358920030064, 'bagging_freq': 5, 'min_child_samples': 52, 'max_depth': 23}. Best is trial 41 with value: 5.783123491537453.\n"
     ]
    },
    {
     "name": "stdout",
     "output_type": "stream",
     "text": [
      "Early stopping, best iteration is:\n",
      "[129]\ttraining's binary_logloss: 0.379\tvalid_1's binary_logloss: 0.437095\n",
      "Training until validation scores don't improve for 50 rounds\n"
     ]
    },
    {
     "name": "stderr",
     "output_type": "stream",
     "text": [
      "[I 2024-01-10 18:08:26,048] Trial 164 finished with value: 6.0521059795159395 and parameters: {'lambda_l1': 1.8290645138388976e-07, 'lambda_l2': 0.00022654158322518643, 'num_leaves': 175, 'bagging_fraction': 0.834629348030262, 'bagging_freq': 5, 'min_child_samples': 58, 'max_depth': 39}. Best is trial 41 with value: 5.783123491537453.\n"
     ]
    },
    {
     "name": "stdout",
     "output_type": "stream",
     "text": [
      "Early stopping, best iteration is:\n",
      "[76]\ttraining's binary_logloss: 0.346796\tvalid_1's binary_logloss: 0.42969\n",
      "Training until validation scores don't improve for 50 rounds\n"
     ]
    },
    {
     "name": "stderr",
     "output_type": "stream",
     "text": [
      "[I 2024-01-10 18:08:33,916] Trial 165 finished with value: 6.4555797114836695 and parameters: {'lambda_l1': 1.7696448567250817e-07, 'lambda_l2': 0.0009014738509939249, 'num_leaves': 172, 'bagging_fraction': 0.8357105080682136, 'bagging_freq': 5, 'min_child_samples': 62, 'max_depth': 39}. Best is trial 41 with value: 5.783123491537453.\n"
     ]
    },
    {
     "name": "stdout",
     "output_type": "stream",
     "text": [
      "Early stopping, best iteration is:\n",
      "[73]\ttraining's binary_logloss: 0.353893\tvalid_1's binary_logloss: 0.431538\n",
      "Training until validation scores don't improve for 50 rounds\n"
     ]
    },
    {
     "name": "stderr",
     "output_type": "stream",
     "text": [
      "[I 2024-01-10 18:08:54,415] Trial 166 finished with value: 6.993544687440641 and parameters: {'lambda_l1': 2.593777071165908e-07, 'lambda_l2': 0.01494544649625819, 'num_leaves': 165, 'bagging_fraction': 0.7398969586711308, 'bagging_freq': 5, 'min_child_samples': 68, 'max_depth': 40}. Best is trial 41 with value: 5.783123491537453.\n"
     ]
    },
    {
     "name": "stdout",
     "output_type": "stream",
     "text": [
      "Early stopping, best iteration is:\n",
      "[50]\ttraining's binary_logloss: 0.399412\tvalid_1's binary_logloss: 0.443374\n",
      "Training until validation scores don't improve for 50 rounds\n"
     ]
    },
    {
     "name": "stderr",
     "output_type": "stream",
     "text": [
      "[I 2024-01-10 18:09:19,594] Trial 167 finished with value: 6.455579711483669 and parameters: {'lambda_l1': 0.3498778312783158, 'lambda_l2': 1.0005289973092054e-08, 'num_leaves': 53, 'bagging_fraction': 0.8746436361949043, 'bagging_freq': 4, 'min_child_samples': 59, 'max_depth': 43}. Best is trial 41 with value: 5.783123491537453.\n"
     ]
    },
    {
     "name": "stdout",
     "output_type": "stream",
     "text": [
      "Early stopping, best iteration is:\n",
      "[47]\ttraining's binary_logloss: 0.376629\tvalid_1's binary_logloss: 0.434202\n",
      "Training until validation scores don't improve for 50 rounds\n"
     ]
    },
    {
     "name": "stderr",
     "output_type": "stream",
     "text": [
      "[I 2024-01-10 18:09:21,133] Trial 168 finished with value: 6.724562199462156 and parameters: {'lambda_l1': 1.0016961874110123e-07, 'lambda_l2': 3.2270806292223604, 'num_leaves': 160, 'bagging_fraction': 0.8961876683425002, 'bagging_freq': 6, 'min_child_samples': 58, 'max_depth': 36}. Best is trial 41 with value: 5.783123491537453.\n"
     ]
    },
    {
     "name": "stdout",
     "output_type": "stream",
     "text": [
      "Early stopping, best iteration is:\n",
      "[53]\ttraining's binary_logloss: 0.381479\tvalid_1's binary_logloss: 0.42939\n",
      "Training until validation scores don't improve for 50 rounds\n"
     ]
    },
    {
     "name": "stderr",
     "output_type": "stream",
     "text": [
      "[I 2024-01-10 18:09:30,526] Trial 169 finished with value: 6.724562199462156 and parameters: {'lambda_l1': 0.0001407797893240557, 'lambda_l2': 0.00021137925941698497, 'num_leaves': 198, 'bagging_fraction': 0.8541750529254934, 'bagging_freq': 6, 'min_child_samples': 61, 'max_depth': 39}. Best is trial 41 with value: 5.783123491537453.\n"
     ]
    },
    {
     "name": "stdout",
     "output_type": "stream",
     "text": [
      "Early stopping, best iteration is:\n",
      "[66]\ttraining's binary_logloss: 0.359144\tvalid_1's binary_logloss: 0.438562\n",
      "Training until validation scores don't improve for 50 rounds\n"
     ]
    },
    {
     "name": "stderr",
     "output_type": "stream",
     "text": [
      "[I 2024-01-10 18:09:35,746] Trial 170 finished with value: 6.455579711483669 and parameters: {'lambda_l1': 2.447657084032332e-06, 'lambda_l2': 0.3640161273921543, 'num_leaves': 177, 'bagging_fraction': 0.8261230536253777, 'bagging_freq': 5, 'min_child_samples': 50, 'max_depth': 38}. Best is trial 41 with value: 5.783123491537453.\n"
     ]
    },
    {
     "name": "stdout",
     "output_type": "stream",
     "text": [
      "Early stopping, best iteration is:\n",
      "[46]\ttraining's binary_logloss: 0.368135\tvalid_1's binary_logloss: 0.42999\n",
      "Training until validation scores don't improve for 50 rounds\n"
     ]
    },
    {
     "name": "stderr",
     "output_type": "stream",
     "text": [
      "[I 2024-01-10 18:09:40,815] Trial 171 finished with value: 6.321088467494426 and parameters: {'lambda_l1': 1.3807176762817527e-07, 'lambda_l2': 7.892652781545368e-05, 'num_leaves': 193, 'bagging_fraction': 0.8127056481602803, 'bagging_freq': 5, 'min_child_samples': 54, 'max_depth': 12}. Best is trial 41 with value: 5.783123491537453.\n"
     ]
    },
    {
     "name": "stdout",
     "output_type": "stream",
     "text": [
      "Early stopping, best iteration is:\n",
      "[75]\ttraining's binary_logloss: 0.34155\tvalid_1's binary_logloss: 0.428205\n",
      "Training until validation scores don't improve for 50 rounds\n"
     ]
    },
    {
     "name": "stderr",
     "output_type": "stream",
     "text": [
      "[I 2024-01-10 18:09:56,938] Trial 172 finished with value: 6.590070955472913 and parameters: {'lambda_l1': 4.761892351621508e-08, 'lambda_l2': 0.0004299930961449456, 'num_leaves': 184, 'bagging_fraction': 0.7689371167842448, 'bagging_freq': 5, 'min_child_samples': 57, 'max_depth': 10}. Best is trial 41 with value: 5.783123491537453.\n"
     ]
    },
    {
     "name": "stdout",
     "output_type": "stream",
     "text": [
      "Early stopping, best iteration is:\n",
      "[51]\ttraining's binary_logloss: 0.376066\tvalid_1's binary_logloss: 0.424999\n",
      "Training until validation scores don't improve for 50 rounds\n"
     ]
    },
    {
     "name": "stderr",
     "output_type": "stream",
     "text": [
      "[I 2024-01-10 18:10:12,148] Trial 173 finished with value: 6.0521059795159395 and parameters: {'lambda_l1': 3.9115907114815234e-07, 'lambda_l2': 0.11838285780597343, 'num_leaves': 131, 'bagging_fraction': 0.9399454924272889, 'bagging_freq': 5, 'min_child_samples': 55, 'max_depth': 7}. Best is trial 41 with value: 5.783123491537453.\n"
     ]
    },
    {
     "name": "stdout",
     "output_type": "stream",
     "text": [
      "Early stopping, best iteration is:\n",
      "[44]\ttraining's binary_logloss: 0.364378\tvalid_1's binary_logloss: 0.41642\n",
      "Training until validation scores don't improve for 50 rounds\n"
     ]
    },
    {
     "name": "stderr",
     "output_type": "stream",
     "text": [
      "[I 2024-01-10 18:10:23,163] Trial 174 finished with value: 6.321088467494427 and parameters: {'lambda_l1': 9.086614539361076e-07, 'lambda_l2': 0.0858077936304665, 'num_leaves': 129, 'bagging_fraction': 0.9516316794136183, 'bagging_freq': 4, 'min_child_samples': 53, 'max_depth': 5}. Best is trial 41 with value: 5.783123491537453.\n"
     ]
    },
    {
     "name": "stdout",
     "output_type": "stream",
     "text": [
      "Early stopping, best iteration is:\n",
      "[39]\ttraining's binary_logloss: 0.370991\tvalid_1's binary_logloss: 0.416823\n",
      "Training until validation scores don't improve for 50 rounds\n"
     ]
    },
    {
     "name": "stderr",
     "output_type": "stream",
     "text": [
      "[I 2024-01-10 18:10:26,966] Trial 175 finished with value: 6.590070955472912 and parameters: {'lambda_l1': 3.5873294216504677e-07, 'lambda_l2': 0.040867812668368836, 'num_leaves': 126, 'bagging_fraction': 0.9401066183564025, 'bagging_freq': 5, 'min_child_samples': 47, 'max_depth': 7}. Best is trial 41 with value: 5.783123491537453.\n"
     ]
    },
    {
     "name": "stdout",
     "output_type": "stream",
     "text": [
      "Early stopping, best iteration is:\n",
      "[40]\ttraining's binary_logloss: 0.348396\tvalid_1's binary_logloss: 0.424885\n",
      "Training until validation scores don't improve for 50 rounds\n"
     ]
    },
    {
     "name": "stderr",
     "output_type": "stream",
     "text": [
      "[I 2024-01-10 18:10:29,730] Trial 176 finished with value: 6.590070955472913 and parameters: {'lambda_l1': 7.345953106741276e-07, 'lambda_l2': 0.1485699787119618, 'num_leaves': 143, 'bagging_fraction': 0.9197484192744156, 'bagging_freq': 5, 'min_child_samples': 64, 'max_depth': 39}. Best is trial 41 with value: 5.783123491537453.\n"
     ]
    },
    {
     "name": "stdout",
     "output_type": "stream",
     "text": [
      "Early stopping, best iteration is:\n",
      "[65]\ttraining's binary_logloss: 0.356372\tvalid_1's binary_logloss: 0.425349\n",
      "Training until validation scores don't improve for 50 rounds\n"
     ]
    },
    {
     "name": "stderr",
     "output_type": "stream",
     "text": [
      "[I 2024-01-10 18:10:31,254] Trial 177 finished with value: 6.993544687440641 and parameters: {'lambda_l1': 1.844125338622481, 'lambda_l2': 3.3996355665719026e-08, 'num_leaves': 134, 'bagging_fraction': 0.8847802732437159, 'bagging_freq': 5, 'min_child_samples': 51, 'max_depth': 34}. Best is trial 41 with value: 5.783123491537453.\n"
     ]
    },
    {
     "name": "stdout",
     "output_type": "stream",
     "text": [
      "Early stopping, best iteration is:\n",
      "[70]\ttraining's binary_logloss: 0.365588\tvalid_1's binary_logloss: 0.432321\n",
      "Training until validation scores don't improve for 50 rounds\n"
     ]
    },
    {
     "name": "stderr",
     "output_type": "stream",
     "text": [
      "[I 2024-01-10 18:10:32,254] Trial 178 finished with value: 6.993544687440642 and parameters: {'lambda_l1': 4.916625669088299e-07, 'lambda_l2': 0.2617218102026962, 'num_leaves': 121, 'bagging_fraction': 0.9405254553488575, 'bagging_freq': 3, 'min_child_samples': 56, 'max_depth': 41}. Best is trial 41 with value: 5.783123491537453.\n"
     ]
    },
    {
     "name": "stdout",
     "output_type": "stream",
     "text": [
      "Early stopping, best iteration is:\n",
      "[40]\ttraining's binary_logloss: 0.371186\tvalid_1's binary_logloss: 0.428544\n",
      "Training until validation scores don't improve for 50 rounds\n"
     ]
    },
    {
     "name": "stderr",
     "output_type": "stream",
     "text": [
      "[I 2024-01-10 18:10:33,713] Trial 179 finished with value: 7.262527175419128 and parameters: {'lambda_l1': 1.977706236499301e-07, 'lambda_l2': 5.198791822312693, 'num_leaves': 168, 'bagging_fraction': 0.9764868920705627, 'bagging_freq': 6, 'min_child_samples': 94, 'max_depth': 37}. Best is trial 41 with value: 5.783123491537453.\n"
     ]
    },
    {
     "name": "stdout",
     "output_type": "stream",
     "text": [
      "Early stopping, best iteration is:\n",
      "[125]\ttraining's binary_logloss: 0.373574\tvalid_1's binary_logloss: 0.442397\n",
      "Training until validation scores don't improve for 50 rounds\n"
     ]
    },
    {
     "name": "stderr",
     "output_type": "stream",
     "text": [
      "[I 2024-01-10 18:10:34,361] Trial 180 finished with value: 6.455579711483669 and parameters: {'lambda_l1': 1.4429457286378843e-06, 'lambda_l2': 0.11338408911061584, 'num_leaves': 137, 'bagging_fraction': 0.840710536738039, 'bagging_freq': 2, 'min_child_samples': 59, 'max_depth': 3}. Best is trial 41 with value: 5.783123491537453.\n"
     ]
    },
    {
     "name": "stdout",
     "output_type": "stream",
     "text": [
      "Early stopping, best iteration is:\n",
      "[61]\ttraining's binary_logloss: 0.378587\tvalid_1's binary_logloss: 0.424524\n",
      "Training until validation scores don't improve for 50 rounds\n"
     ]
    },
    {
     "name": "stderr",
     "output_type": "stream",
     "text": [
      "[I 2024-01-10 18:10:37,562] Trial 181 finished with value: 6.186597223505183 and parameters: {'lambda_l1': 1.0567707208884512e-07, 'lambda_l2': 0.00026422560476151955, 'num_leaves': 189, 'bagging_fraction': 0.8053327827542213, 'bagging_freq': 5, 'min_child_samples': 55, 'max_depth': 7}. Best is trial 41 with value: 5.783123491537453.\n"
     ]
    },
    {
     "name": "stdout",
     "output_type": "stream",
     "text": [
      "Early stopping, best iteration is:\n",
      "[100]\ttraining's binary_logloss: 0.325142\tvalid_1's binary_logloss: 0.427764\n",
      "Training until validation scores don't improve for 50 rounds\n"
     ]
    },
    {
     "name": "stderr",
     "output_type": "stream",
     "text": [
      "[I 2024-01-10 18:10:38,823] Trial 182 finished with value: 5.783123491537453 and parameters: {'lambda_l1': 7.586376031861293e-08, 'lambda_l2': 4.7498614841390425e-05, 'num_leaves': 63, 'bagging_fraction': 0.822279798204075, 'bagging_freq': 5, 'min_child_samples': 53, 'max_depth': 8}. Best is trial 41 with value: 5.783123491537453.\n"
     ]
    },
    {
     "name": "stdout",
     "output_type": "stream",
     "text": [
      "Early stopping, best iteration is:\n",
      "[76]\ttraining's binary_logloss: 0.33762\tvalid_1's binary_logloss: 0.430593\n",
      "Training until validation scores don't improve for 50 rounds\n"
     ]
    },
    {
     "name": "stderr",
     "output_type": "stream",
     "text": [
      "[I 2024-01-10 18:10:39,240] Trial 183 finished with value: 6.321088467494426 and parameters: {'lambda_l1': 3.125959613675784e-08, 'lambda_l2': 3.667113315547577e-05, 'num_leaves': 65, 'bagging_fraction': 0.8184660661727531, 'bagging_freq': 5, 'min_child_samples': 49, 'max_depth': 6}. Best is trial 41 with value: 5.783123491537453.\n"
     ]
    },
    {
     "name": "stdout",
     "output_type": "stream",
     "text": [
      "Early stopping, best iteration is:\n",
      "[43]\ttraining's binary_logloss: 0.368711\tvalid_1's binary_logloss: 0.435278\n",
      "Training until validation scores don't improve for 50 rounds\n"
     ]
    },
    {
     "name": "stderr",
     "output_type": "stream",
     "text": [
      "[I 2024-01-10 18:10:39,835] Trial 184 finished with value: 6.455579711483669 and parameters: {'lambda_l1': 6.244699909005399e-08, 'lambda_l2': 0.00010879121670765682, 'num_leaves': 53, 'bagging_fraction': 0.9277031358030797, 'bagging_freq': 5, 'min_child_samples': 51, 'max_depth': 8}. Best is trial 41 with value: 5.783123491537453.\n"
     ]
    },
    {
     "name": "stdout",
     "output_type": "stream",
     "text": [
      "Early stopping, best iteration is:\n",
      "[37]\ttraining's binary_logloss: 0.363435\tvalid_1's binary_logloss: 0.423714\n",
      "Training until validation scores don't improve for 50 rounds\n"
     ]
    },
    {
     "name": "stderr",
     "output_type": "stream",
     "text": [
      "[I 2024-01-10 18:10:40,363] Trial 185 finished with value: 7.128035931429885 and parameters: {'lambda_l1': 0.0034417815539304103, 'lambda_l2': 5.127042854322922e-06, 'num_leaves': 49, 'bagging_fraction': 0.8651553636020932, 'bagging_freq': 5, 'min_child_samples': 53, 'max_depth': 36}. Best is trial 41 with value: 5.783123491537453.\n"
     ]
    },
    {
     "name": "stdout",
     "output_type": "stream",
     "text": [
      "Early stopping, best iteration is:\n",
      "[30]\ttraining's binary_logloss: 0.397019\tvalid_1's binary_logloss: 0.432492\n",
      "Training until validation scores don't improve for 50 rounds\n"
     ]
    },
    {
     "name": "stderr",
     "output_type": "stream",
     "text": [
      "[I 2024-01-10 18:10:40,869] Trial 186 finished with value: 6.321088467494427 and parameters: {'lambda_l1': 0.14163984870188576, 'lambda_l2': 2.047974834518264e-08, 'num_leaves': 92, 'bagging_fraction': 0.8445124444650607, 'bagging_freq': 4, 'min_child_samples': 62, 'max_depth': 42}. Best is trial 41 with value: 5.783123491537453.\n"
     ]
    },
    {
     "name": "stdout",
     "output_type": "stream",
     "text": [
      "Early stopping, best iteration is:\n",
      "[58]\ttraining's binary_logloss: 0.367437\tvalid_1's binary_logloss: 0.433017\n",
      "Training until validation scores don't improve for 50 rounds\n"
     ]
    },
    {
     "name": "stderr",
     "output_type": "stream",
     "text": [
      "[I 2024-01-10 18:10:41,746] Trial 187 finished with value: 6.859053443451398 and parameters: {'lambda_l1': 2.379051777544317e-07, 'lambda_l2': 5.797048727829093e-07, 'num_leaves': 74, 'bagging_fraction': 0.8310645349048884, 'bagging_freq': 6, 'min_child_samples': 58, 'max_depth': 11}. Best is trial 41 with value: 5.783123491537453.\n"
     ]
    },
    {
     "name": "stdout",
     "output_type": "stream",
     "text": [
      "Early stopping, best iteration is:\n",
      "[59]\ttraining's binary_logloss: 0.362844\tvalid_1's binary_logloss: 0.431748\n",
      "Training until validation scores don't improve for 50 rounds\n"
     ]
    },
    {
     "name": "stderr",
     "output_type": "stream",
     "text": [
      "[I 2024-01-10 18:10:44,792] Trial 188 finished with value: 7.262527175419128 and parameters: {'lambda_l1': 0.006943694731925234, 'lambda_l2': 0.05725910189249296, 'num_leaves': 232, 'bagging_fraction': 0.7120170808739167, 'bagging_freq': 5, 'min_child_samples': 56, 'max_depth': 8}. Best is trial 41 with value: 5.783123491537453.\n"
     ]
    },
    {
     "name": "stdout",
     "output_type": "stream",
     "text": [
      "Early stopping, best iteration is:\n",
      "[50]\ttraining's binary_logloss: 0.384421\tvalid_1's binary_logloss: 0.434692\n",
      "Training until validation scores don't improve for 50 rounds\n"
     ]
    },
    {
     "name": "stderr",
     "output_type": "stream",
     "text": [
      "[I 2024-01-10 18:10:46,218] Trial 189 finished with value: 6.993544687440641 and parameters: {'lambda_l1': 0.23980414743736495, 'lambda_l2': 0.5918144787475753, 'num_leaves': 61, 'bagging_fraction': 0.8591109965183922, 'bagging_freq': 6, 'min_child_samples': 60, 'max_depth': 38}. Best is trial 41 with value: 5.783123491537453.\n"
     ]
    },
    {
     "name": "stdout",
     "output_type": "stream",
     "text": [
      "Early stopping, best iteration is:\n",
      "[60]\ttraining's binary_logloss: 0.369947\tvalid_1's binary_logloss: 0.43138\n",
      "Training until validation scores don't improve for 50 rounds\n"
     ]
    },
    {
     "name": "stderr",
     "output_type": "stream",
     "text": [
      "[I 2024-01-10 18:10:48,948] Trial 190 finished with value: 6.321088467494426 and parameters: {'lambda_l1': 9.720022497984156e-08, 'lambda_l2': 0.0013951030898114681, 'num_leaves': 58, 'bagging_fraction': 0.9602333152397629, 'bagging_freq': 3, 'min_child_samples': 66, 'max_depth': 40}. Best is trial 41 with value: 5.783123491537453.\n"
     ]
    },
    {
     "name": "stdout",
     "output_type": "stream",
     "text": [
      "Early stopping, best iteration is:\n",
      "[84]\ttraining's binary_logloss: 0.343772\tvalid_1's binary_logloss: 0.42635\n",
      "Training until validation scores don't improve for 50 rounds\n"
     ]
    },
    {
     "name": "stderr",
     "output_type": "stream",
     "text": [
      "[I 2024-01-10 18:10:50,583] Trial 191 finished with value: 6.0521059795159395 and parameters: {'lambda_l1': 1.4018163304276436e-07, 'lambda_l2': 6.423467106044321e-05, 'num_leaves': 180, 'bagging_fraction': 0.7906056830965256, 'bagging_freq': 5, 'min_child_samples': 55, 'max_depth': 9}. Best is trial 41 with value: 5.783123491537453.\n"
     ]
    },
    {
     "name": "stdout",
     "output_type": "stream",
     "text": [
      "Early stopping, best iteration is:\n",
      "[110]\ttraining's binary_logloss: 0.319958\tvalid_1's binary_logloss: 0.426872\n",
      "Training until validation scores don't improve for 50 rounds\n"
     ]
    },
    {
     "name": "stderr",
     "output_type": "stream",
     "text": [
      "[I 2024-01-10 18:10:51,143] Trial 192 finished with value: 6.724562199462156 and parameters: {'lambda_l1': 1.6970791106360568e-07, 'lambda_l2': 0.00018660827647722165, 'num_leaves': 174, 'bagging_fraction': 0.7860593142357194, 'bagging_freq': 5, 'min_child_samples': 54, 'max_depth': 10}. Best is trial 41 with value: 5.783123491537453.\n"
     ]
    },
    {
     "name": "stdout",
     "output_type": "stream",
     "text": [
      "Early stopping, best iteration is:\n",
      "[45]\ttraining's binary_logloss: 0.378329\tvalid_1's binary_logloss: 0.427813\n",
      "Training until validation scores don't improve for 50 rounds\n"
     ]
    },
    {
     "name": "stderr",
     "output_type": "stream",
     "text": [
      "[I 2024-01-10 18:10:52,285] Trial 193 finished with value: 6.4555797114836695 and parameters: {'lambda_l1': 6.650176272486693e-08, 'lambda_l2': 2.2163372635199794e-05, 'num_leaves': 192, 'bagging_fraction': 0.8146999399315313, 'bagging_freq': 5, 'min_child_samples': 51, 'max_depth': 9}. Best is trial 41 with value: 5.783123491537453.\n"
     ]
    },
    {
     "name": "stdout",
     "output_type": "stream",
     "text": [
      "Early stopping, best iteration is:\n",
      "[40]\ttraining's binary_logloss: 0.378875\tvalid_1's binary_logloss: 0.433483\n",
      "Training until validation scores don't improve for 50 rounds\n"
     ]
    },
    {
     "name": "stderr",
     "output_type": "stream",
     "text": [
      "[I 2024-01-10 18:10:53,547] Trial 194 finished with value: 6.4555797114836695 and parameters: {'lambda_l1': 0.7531789822356566, 'lambda_l2': 5.17426621340781e-05, 'num_leaves': 180, 'bagging_fraction': 0.7779621448683643, 'bagging_freq': 5, 'min_child_samples': 57, 'max_depth': 6}. Best is trial 41 with value: 5.783123491537453.\n"
     ]
    },
    {
     "name": "stdout",
     "output_type": "stream",
     "text": [
      "Early stopping, best iteration is:\n",
      "[111]\ttraining's binary_logloss: 0.33992\tvalid_1's binary_logloss: 0.427241\n",
      "Training until validation scores don't improve for 50 rounds\n"
     ]
    },
    {
     "name": "stderr",
     "output_type": "stream",
     "text": [
      "[I 2024-01-10 18:10:54,114] Trial 195 finished with value: 6.321088467494426 and parameters: {'lambda_l1': 3.4442773831112316e-07, 'lambda_l2': 0.00013376588171533786, 'num_leaves': 198, 'bagging_fraction': 0.9052495824120667, 'bagging_freq': 5, 'min_child_samples': 48, 'max_depth': 13}. Best is trial 41 with value: 5.783123491537453.\n"
     ]
    },
    {
     "name": "stdout",
     "output_type": "stream",
     "text": [
      "Early stopping, best iteration is:\n",
      "[30]\ttraining's binary_logloss: 0.380081\tvalid_1's binary_logloss: 0.417051\n",
      "Training until validation scores don't improve for 50 rounds\n"
     ]
    },
    {
     "name": "stderr",
     "output_type": "stream",
     "text": [
      "[I 2024-01-10 18:10:57,437] Trial 196 finished with value: 6.859053443451398 and parameters: {'lambda_l1': 4.169802467801191e-08, 'lambda_l2': 0.16436263538808168, 'num_leaves': 202, 'bagging_fraction': 0.9325254885893189, 'bagging_freq': 4, 'min_child_samples': 45, 'max_depth': 32}. Best is trial 41 with value: 5.783123491537453.\n"
     ]
    },
    {
     "name": "stdout",
     "output_type": "stream",
     "text": [
      "Early stopping, best iteration is:\n",
      "[31]\ttraining's binary_logloss: 0.363072\tvalid_1's binary_logloss: 0.424494\n",
      "Training until validation scores don't improve for 50 rounds\n"
     ]
    },
    {
     "name": "stderr",
     "output_type": "stream",
     "text": [
      "[I 2024-01-10 18:11:02,122] Trial 197 finished with value: 6.321088467494426 and parameters: {'lambda_l1': 8.963922884236848e-08, 'lambda_l2': 2.818185688780677e-06, 'num_leaves': 130, 'bagging_fraction': 0.803443149519193, 'bagging_freq': 5, 'min_child_samples': 53, 'max_depth': 35}. Best is trial 41 with value: 5.783123491537453.\n"
     ]
    },
    {
     "name": "stdout",
     "output_type": "stream",
     "text": [
      "Early stopping, best iteration is:\n",
      "[52]\ttraining's binary_logloss: 0.365686\tvalid_1's binary_logloss: 0.434411\n",
      "Training until validation scores don't improve for 50 rounds\n"
     ]
    },
    {
     "name": "stderr",
     "output_type": "stream",
     "text": [
      "[I 2024-01-10 18:11:02,414] Trial 198 finished with value: 6.859053443451398 and parameters: {'lambda_l1': 1.5304264295302004e-07, 'lambda_l2': 1.0047284364547196e-05, 'num_leaves': 65, 'bagging_fraction': 0.8229355131908245, 'bagging_freq': 6, 'min_child_samples': 55, 'max_depth': 8}. Best is trial 41 with value: 5.783123491537453.\n"
     ]
    },
    {
     "name": "stdout",
     "output_type": "stream",
     "text": [
      "Early stopping, best iteration is:\n",
      "[35]\ttraining's binary_logloss: 0.392587\tvalid_1's binary_logloss: 0.431508\n",
      "Training until validation scores don't improve for 50 rounds\n"
     ]
    },
    {
     "name": "stderr",
     "output_type": "stream",
     "text": [
      "[I 2024-01-10 18:11:02,982] Trial 199 finished with value: 5.783123491537453 and parameters: {'lambda_l1': 2.2095669580000568e-08, 'lambda_l2': 0.40071048340533555, 'num_leaves': 245, 'bagging_fraction': 0.948018616816114, 'bagging_freq': 5, 'min_child_samples': 61, 'max_depth': 37}. Best is trial 41 with value: 5.783123491537453.\n"
     ]
    },
    {
     "name": "stdout",
     "output_type": "stream",
     "text": [
      "Early stopping, best iteration is:\n",
      "[53]\ttraining's binary_logloss: 0.366202\tvalid_1's binary_logloss: 0.424511\n"
     ]
    },
    {
     "data": {
      "text/plain": [
       "FrozenTrial(number=41, state=1, values=[5.783123491537453], datetime_start=datetime.datetime(2024, 1, 10, 18, 3, 25, 717503), datetime_complete=datetime.datetime(2024, 1, 10, 18, 3, 26, 378111), params={'lambda_l1': 0.6409449461475386, 'lambda_l2': 2.571060917000477e-06, 'num_leaves': 47, 'bagging_fraction': 0.9415328816176557, 'bagging_freq': 6, 'min_child_samples': 66, 'max_depth': 9}, user_attrs={}, system_attrs={}, intermediate_values={}, distributions={'lambda_l1': FloatDistribution(high=10.0, log=True, low=1e-08, step=None), 'lambda_l2': FloatDistribution(high=10.0, log=True, low=1e-08, step=None), 'num_leaves': IntDistribution(high=256, log=False, low=2, step=1), 'bagging_fraction': FloatDistribution(high=1.0, log=False, low=0.4, step=None), 'bagging_freq': IntDistribution(high=7, log=False, low=1, step=1), 'min_child_samples': IntDistribution(high=100, log=False, low=5, step=1), 'max_depth': IntDistribution(high=50, log=False, low=1, step=1)}, trial_id=41, value=None)"
      ]
     },
     "execution_count": 8,
     "metadata": {},
     "output_type": "execute_result"
    }
   ],
   "source": [
    "def objective(trial):\n",
    "    param = {\n",
    "        'objective': 'binary',\n",
    "        'metric': 'binary_logloss',\n",
    "        'verbose': -1,\n",
    "        'boosting_type': 'gbdt',\n",
    "        'lambda_l1': trial.suggest_float('lambda_l1', 1e-8, 10.0, log=True),\n",
    "        'lambda_l2': trial.suggest_float('lambda_l2', 1e-8, 10.0, log=True),\n",
    "        'num_leaves': trial.suggest_int('num_leaves', 2, 256),\n",
    "        'feature_fraction': 1,\n",
    "        'bagging_fraction': trial.suggest_float('bagging_fraction', 0.4, 1.0),\n",
    "        'bagging_freq': trial.suggest_int('bagging_freq', 1, 7),\n",
    "        'min_child_samples': trial.suggest_int('min_child_samples', 5, 100),\n",
    "        'max_depth':trial.suggest_int('max_depth', 1, 50),\n",
    "    }\n",
    "    bst = lgb.train(param,\n",
    "                    lgbTrain,\n",
    "                    valid_sets = [lgbTrain, lgbEval],\n",
    "                    num_boost_round = num_round,\n",
    "                    callbacks=[lgb.early_stopping(50)]\n",
    "                   )\n",
    "    preds = bst.predict(X_valid, num_iteration = bst.best_iteration)\n",
    "    y_pred_binary = [1 if pred > 0.5 else 0 for pred in preds]\n",
    "    from sklearn.metrics import log_loss\n",
    "    return log_loss(y_pred_binary, y_valid)\n",
    "\n",
    "study = optuna.create_study(direction='minimize')\n",
    "study.optimize(objective, n_trials=200)\n",
    "study.best_trial"
   ]
  },
  {
   "cell_type": "code",
   "execution_count": 8,
   "id": "ec001a62",
   "metadata": {
    "execution": {
     "iopub.execute_input": "2024-01-10T17:48:22.163010Z",
     "iopub.status.busy": "2024-01-10T17:48:22.162597Z",
     "iopub.status.idle": "2024-01-10T17:48:22.167833Z",
     "shell.execute_reply": "2024-01-10T17:48:22.166784Z"
    },
    "papermill": {
     "duration": 0.069293,
     "end_time": "2024-01-10T17:48:22.170200",
     "exception": false,
     "start_time": "2024-01-10T17:48:22.100907",
     "status": "completed"
    },
    "tags": []
   },
   "outputs": [],
   "source": [
    "best = study.best_params\n",
    "best['objective'] = 'binary'"
   ]
  },
  {
   "cell_type": "code",
   "execution_count": 9,
   "id": "b34aaea8",
   "metadata": {
    "execution": {
     "iopub.execute_input": "2024-01-10T17:48:22.292965Z",
     "iopub.status.busy": "2024-01-10T17:48:22.291959Z",
     "iopub.status.idle": "2024-01-10T17:48:22.478496Z",
     "shell.execute_reply": "2024-01-10T17:48:22.477461Z"
    },
    "papermill": {
     "duration": 0.253206,
     "end_time": "2024-01-10T17:48:22.483348",
     "exception": false,
     "start_time": "2024-01-10T17:48:22.230142",
     "status": "completed"
    },
    "tags": []
   },
   "outputs": [
    {
     "name": "stdout",
     "output_type": "stream",
     "text": [
      "[LightGBM] [Info] Number of positive: 239, number of negative: 384\n",
      "[LightGBM] [Warning] Auto-choosing row-wise multi-threading, the overhead of testing was 0.000714 seconds.\n",
      "You can set `force_row_wise=true` to remove the overhead.\n",
      "And if memory is not enough, you can set `force_col_wise=true`.\n",
      "[LightGBM] [Info] Total Bins 205\n",
      "[LightGBM] [Info] Number of data points in the train set: 623, number of used features: 8\n",
      "[LightGBM] [Info] [binary:BoostFromScore]: pavg=0.383628 -> initscore=-0.474179\n",
      "[LightGBM] [Info] Start training from score -0.474179\n",
      "[LightGBM] [Warning] No further splits with positive gain, best gain: -inf\n",
      "Training until validation scores don't improve for 50 rounds\n",
      "[LightGBM] [Warning] No further splits with positive gain, best gain: -inf\n",
      "[LightGBM] [Warning] No further splits with positive gain, best gain: -inf\n",
      "[LightGBM] [Warning] No further splits with positive gain, best gain: -inf\n",
      "[LightGBM] [Warning] No further splits with positive gain, best gain: -inf\n",
      "[LightGBM] [Warning] No further splits with positive gain, best gain: -inf\n",
      "[LightGBM] [Warning] No further splits with positive gain, best gain: -inf\n",
      "[LightGBM] [Warning] No further splits with positive gain, best gain: -inf\n",
      "[LightGBM] [Warning] No further splits with positive gain, best gain: -inf\n",
      "[LightGBM] [Warning] No further splits with positive gain, best gain: -inf\n",
      "[10]\ttraining's binary_logloss: 0.481055\tvalid_1's binary_logloss: 0.492035\n",
      "[LightGBM] [Warning] No further splits with positive gain, best gain: -inf\n",
      "[LightGBM] [Warning] No further splits with positive gain, best gain: -inf\n",
      "[LightGBM] [Warning] No further splits with positive gain, best gain: -inf\n",
      "[LightGBM] [Warning] No further splits with positive gain, best gain: -inf\n",
      "[LightGBM] [Warning] No further splits with positive gain, best gain: -inf\n",
      "[LightGBM] [Warning] No further splits with positive gain, best gain: -inf\n",
      "[LightGBM] [Warning] No further splits with positive gain, best gain: -inf\n",
      "[LightGBM] [Warning] No further splits with positive gain, best gain: -inf\n",
      "[LightGBM] [Warning] No further splits with positive gain, best gain: -inf\n",
      "[LightGBM] [Warning] No further splits with positive gain, best gain: -inf\n",
      "[20]\ttraining's binary_logloss: 0.431946\tvalid_1's binary_logloss: 0.448267\n",
      "[LightGBM] [Warning] No further splits with positive gain, best gain: -inf\n",
      "[LightGBM] [Warning] No further splits with positive gain, best gain: -inf\n",
      "[LightGBM] [Warning] No further splits with positive gain, best gain: -inf\n",
      "[LightGBM] [Warning] No further splits with positive gain, best gain: -inf\n",
      "[LightGBM] [Warning] No further splits with positive gain, best gain: -inf\n",
      "[LightGBM] [Warning] No further splits with positive gain, best gain: -inf\n",
      "[LightGBM] [Warning] No further splits with positive gain, best gain: -inf\n",
      "[LightGBM] [Warning] No further splits with positive gain, best gain: -inf\n",
      "[LightGBM] [Warning] No further splits with positive gain, best gain: -inf\n",
      "[LightGBM] [Warning] No further splits with positive gain, best gain: -inf\n",
      "[30]\ttraining's binary_logloss: 0.399147\tvalid_1's binary_logloss: 0.434671\n",
      "[LightGBM] [Warning] No further splits with positive gain, best gain: -inf\n",
      "[LightGBM] [Warning] No further splits with positive gain, best gain: -inf\n",
      "[LightGBM] [Warning] No further splits with positive gain, best gain: -inf\n",
      "[LightGBM] [Warning] No further splits with positive gain, best gain: -inf\n",
      "[LightGBM] [Warning] No further splits with positive gain, best gain: -inf\n",
      "[LightGBM] [Warning] No further splits with positive gain, best gain: -inf\n",
      "[LightGBM] [Warning] No further splits with positive gain, best gain: -inf\n",
      "[LightGBM] [Warning] No further splits with positive gain, best gain: -inf\n",
      "[LightGBM] [Warning] No further splits with positive gain, best gain: -inf\n",
      "[LightGBM] [Warning] No further splits with positive gain, best gain: -inf\n",
      "[40]\ttraining's binary_logloss: 0.386639\tvalid_1's binary_logloss: 0.438782\n",
      "[LightGBM] [Warning] No further splits with positive gain, best gain: -inf\n",
      "[LightGBM] [Warning] No further splits with positive gain, best gain: -inf\n",
      "[LightGBM] [Warning] No further splits with positive gain, best gain: -inf\n",
      "[LightGBM] [Warning] No further splits with positive gain, best gain: -inf\n",
      "[LightGBM] [Warning] No further splits with positive gain, best gain: -inf\n",
      "[LightGBM] [Warning] No further splits with positive gain, best gain: -inf\n",
      "[LightGBM] [Warning] No further splits with positive gain, best gain: -inf\n",
      "[LightGBM] [Warning] No further splits with positive gain, best gain: -inf\n",
      "[LightGBM] [Warning] No further splits with positive gain, best gain: -inf\n",
      "[LightGBM] [Warning] No further splits with positive gain, best gain: -inf\n",
      "[50]\ttraining's binary_logloss: 0.366058\tvalid_1's binary_logloss: 0.426809\n",
      "[LightGBM] [Warning] No further splits with positive gain, best gain: -inf\n",
      "[LightGBM] [Warning] No further splits with positive gain, best gain: -inf\n",
      "[LightGBM] [Warning] No further splits with positive gain, best gain: -inf\n",
      "[LightGBM] [Warning] No further splits with positive gain, best gain: -inf\n",
      "[LightGBM] [Warning] No further splits with positive gain, best gain: -inf\n",
      "[LightGBM] [Warning] No further splits with positive gain, best gain: -inf\n",
      "[LightGBM] [Warning] No further splits with positive gain, best gain: -inf\n",
      "[LightGBM] [Warning] No further splits with positive gain, best gain: -inf\n",
      "[LightGBM] [Warning] No further splits with positive gain, best gain: -inf\n",
      "[LightGBM] [Warning] No further splits with positive gain, best gain: -inf\n",
      "[60]\ttraining's binary_logloss: 0.349675\tvalid_1's binary_logloss: 0.432957\n",
      "[LightGBM] [Warning] No further splits with positive gain, best gain: -inf\n",
      "[LightGBM] [Warning] No further splits with positive gain, best gain: -inf\n",
      "[LightGBM] [Warning] No further splits with positive gain, best gain: -inf\n",
      "[LightGBM] [Warning] No further splits with positive gain, best gain: -inf\n",
      "[LightGBM] [Warning] No further splits with positive gain, best gain: -inf\n",
      "[LightGBM] [Warning] No further splits with positive gain, best gain: -inf\n",
      "[LightGBM] [Warning] No further splits with positive gain, best gain: -inf\n",
      "[LightGBM] [Warning] No further splits with positive gain, best gain: -inf\n",
      "[LightGBM] [Warning] No further splits with positive gain, best gain: -inf\n",
      "[LightGBM] [Warning] No further splits with positive gain, best gain: -inf\n",
      "[70]\ttraining's binary_logloss: 0.341849\tvalid_1's binary_logloss: 0.439394\n",
      "[LightGBM] [Warning] No further splits with positive gain, best gain: -inf\n",
      "[LightGBM] [Warning] No further splits with positive gain, best gain: -inf\n",
      "[LightGBM] [Warning] No further splits with positive gain, best gain: -inf\n",
      "[LightGBM] [Warning] No further splits with positive gain, best gain: -inf\n",
      "[LightGBM] [Warning] No further splits with positive gain, best gain: -inf\n",
      "[LightGBM] [Warning] No further splits with positive gain, best gain: -inf\n",
      "[LightGBM] [Warning] No further splits with positive gain, best gain: -inf\n",
      "[LightGBM] [Warning] No further splits with positive gain, best gain: -inf\n",
      "[LightGBM] [Warning] No further splits with positive gain, best gain: -inf\n",
      "[LightGBM] [Warning] No further splits with positive gain, best gain: -inf\n",
      "[80]\ttraining's binary_logloss: 0.332463\tvalid_1's binary_logloss: 0.44065\n",
      "[LightGBM] [Warning] No further splits with positive gain, best gain: -inf\n",
      "[LightGBM] [Warning] No further splits with positive gain, best gain: -inf\n",
      "[LightGBM] [Warning] No further splits with positive gain, best gain: -inf\n",
      "[LightGBM] [Warning] No further splits with positive gain, best gain: -inf\n",
      "[LightGBM] [Warning] No further splits with positive gain, best gain: -inf\n",
      "[LightGBM] [Warning] No further splits with positive gain, best gain: -inf\n",
      "[LightGBM] [Warning] No further splits with positive gain, best gain: -inf\n",
      "[LightGBM] [Warning] No further splits with positive gain, best gain: -inf\n",
      "[LightGBM] [Warning] No further splits with positive gain, best gain: -inf\n",
      "[LightGBM] [Warning] No further splits with positive gain, best gain: -inf\n",
      "[90]\ttraining's binary_logloss: 0.326953\tvalid_1's binary_logloss: 0.446218\n",
      "[LightGBM] [Warning] No further splits with positive gain, best gain: -inf\n",
      "[LightGBM] [Warning] No further splits with positive gain, best gain: -inf\n",
      "[LightGBM] [Warning] No further splits with positive gain, best gain: -inf\n",
      "[LightGBM] [Warning] No further splits with positive gain, best gain: -inf\n",
      "[LightGBM] [Warning] No further splits with positive gain, best gain: -inf\n",
      "[LightGBM] [Warning] No further splits with positive gain, best gain: -inf\n",
      "[LightGBM] [Warning] No further splits with positive gain, best gain: -inf\n",
      "[LightGBM] [Warning] No further splits with positive gain, best gain: -inf\n",
      "[LightGBM] [Warning] No further splits with positive gain, best gain: -inf\n",
      "[LightGBM] [Warning] No further splits with positive gain, best gain: -inf\n",
      "[100]\ttraining's binary_logloss: 0.319917\tvalid_1's binary_logloss: 0.452234\n",
      "Early stopping, best iteration is:\n",
      "[50]\ttraining's binary_logloss: 0.366058\tvalid_1's binary_logloss: 0.426809\n"
     ]
    },
    {
     "name": "stderr",
     "output_type": "stream",
     "text": [
      "/opt/conda/lib/python3.10/site-packages/lightgbm/basic.py:2065: UserWarning: Using categorical_feature in Dataset.\n",
      "  _log_warning('Using categorical_feature in Dataset.')\n",
      "/opt/conda/lib/python3.10/site-packages/lightgbm/engine.py:239: UserWarning: 'verbose_eval' argument is deprecated and will be removed in a future release of LightGBM. Pass 'log_evaluation()' callback via 'callbacks' argument instead.\n",
      "  _log_warning(\"'verbose_eval' argument is deprecated and will be removed in a future release of LightGBM. \"\n"
     ]
    }
   ],
   "source": [
    "bst = lgb.train(best, \n",
    "                lgbTrain,\n",
    "                valid_sets = [lgbTrain, lgbEval],\n",
    "                verbose_eval=10,\n",
    "                num_boost_round=num_round,\n",
    "                callbacks=[lgb.early_stopping(50)])"
   ]
  },
  {
   "cell_type": "code",
   "execution_count": 10,
   "id": "8c09b88f",
   "metadata": {
    "execution": {
     "iopub.execute_input": "2024-01-10T17:48:22.605615Z",
     "iopub.status.busy": "2024-01-10T17:48:22.604924Z",
     "iopub.status.idle": "2024-01-10T17:48:22.612212Z",
     "shell.execute_reply": "2024-01-10T17:48:22.611434Z"
    },
    "papermill": {
     "duration": 0.070959,
     "end_time": "2024-01-10T17:48:22.614437",
     "exception": false,
     "start_time": "2024-01-10T17:48:22.543478",
     "status": "completed"
    },
    "tags": []
   },
   "outputs": [],
   "source": [
    "preds = bst.predict(X_test, num_iteration = bst.best_iteration)\n",
    "preds = (preds > 0.5).astype(int)"
   ]
  },
  {
   "cell_type": "code",
   "execution_count": 11,
   "id": "b0ec18e1",
   "metadata": {
    "execution": {
     "iopub.execute_input": "2024-01-10T17:48:22.796196Z",
     "iopub.status.busy": "2024-01-10T17:48:22.795553Z",
     "iopub.status.idle": "2024-01-10T17:48:22.810718Z",
     "shell.execute_reply": "2024-01-10T17:48:22.809585Z"
    },
    "papermill": {
     "duration": 0.138588,
     "end_time": "2024-01-10T17:48:22.813088",
     "exception": false,
     "start_time": "2024-01-10T17:48:22.674500",
     "status": "completed"
    },
    "tags": []
   },
   "outputs": [
    {
     "data": {
      "text/html": [
       "<div>\n",
       "<style scoped>\n",
       "    .dataframe tbody tr th:only-of-type {\n",
       "        vertical-align: middle;\n",
       "    }\n",
       "\n",
       "    .dataframe tbody tr th {\n",
       "        vertical-align: top;\n",
       "    }\n",
       "\n",
       "    .dataframe thead th {\n",
       "        text-align: right;\n",
       "    }\n",
       "</style>\n",
       "<table border=\"1\" class=\"dataframe\">\n",
       "  <thead>\n",
       "    <tr style=\"text-align: right;\">\n",
       "      <th></th>\n",
       "      <th>PassengerId</th>\n",
       "      <th>Survived</th>\n",
       "    </tr>\n",
       "  </thead>\n",
       "  <tbody>\n",
       "    <tr>\n",
       "      <th>0</th>\n",
       "      <td>892</td>\n",
       "      <td>0</td>\n",
       "    </tr>\n",
       "    <tr>\n",
       "      <th>1</th>\n",
       "      <td>893</td>\n",
       "      <td>0</td>\n",
       "    </tr>\n",
       "    <tr>\n",
       "      <th>2</th>\n",
       "      <td>894</td>\n",
       "      <td>0</td>\n",
       "    </tr>\n",
       "    <tr>\n",
       "      <th>3</th>\n",
       "      <td>895</td>\n",
       "      <td>0</td>\n",
       "    </tr>\n",
       "    <tr>\n",
       "      <th>4</th>\n",
       "      <td>896</td>\n",
       "      <td>0</td>\n",
       "    </tr>\n",
       "  </tbody>\n",
       "</table>\n",
       "</div>"
      ],
      "text/plain": [
       "   PassengerId  Survived\n",
       "0          892         0\n",
       "1          893         0\n",
       "2          894         0\n",
       "3          895         0\n",
       "4          896         0"
      ]
     },
     "execution_count": 11,
     "metadata": {},
     "output_type": "execute_result"
    }
   ],
   "source": [
    "submission = gender_submission\n",
    "submission['Survived'] = preds\n",
    "submission.to_csv(\"submission.csv\", index=False)\n",
    "submission.head()"
   ]
  }
 ],
 "metadata": {
  "kaggle": {
   "accelerator": "none",
   "dataSources": [
    {
     "databundleVersionId": 26502,
     "sourceId": 3136,
     "sourceType": "competition"
    }
   ],
   "dockerImageVersionId": 30626,
   "isGpuEnabled": false,
   "isInternetEnabled": false,
   "language": "python",
   "sourceType": "notebook"
  },
  "kernelspec": {
   "display_name": "Python 3",
   "language": "python",
   "name": "python3"
  },
  "language_info": {
   "codemirror_mode": {
    "name": "ipython",
    "version": 3
   },
   "file_extension": ".py",
   "mimetype": "text/x-python",
   "name": "python",
   "nbconvert_exporter": "python",
   "pygments_lexer": "ipython3",
   "version": "3.11.4"
  },
  "papermill": {
   "default_parameters": {},
   "duration": 64.925558,
   "end_time": "2024-01-10T17:48:23.696279",
   "environment_variables": {},
   "exception": null,
   "input_path": "__notebook__.ipynb",
   "output_path": "__notebook__.ipynb",
   "parameters": {},
   "start_time": "2024-01-10T17:47:18.770721",
   "version": "2.4.0"
  }
 },
 "nbformat": 4,
 "nbformat_minor": 5
}
